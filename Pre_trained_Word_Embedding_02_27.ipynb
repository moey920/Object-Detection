{
  "nbformat": 4,
  "nbformat_minor": 0,
  "metadata": {
    "colab": {
      "name": "Pre-trained Word Embedding_02.27.ipynb",
      "provenance": [],
      "collapsed_sections": [],
      "toc_visible": true,
      "mount_file_id": "1Uo8KSLri3sNWrPxlypttUMLinDucnlHq",
      "authorship_tag": "ABX9TyMokhEKgrFgLIHTiQenCjjG",
      "include_colab_link": true
    },
    "kernelspec": {
      "name": "python3",
      "display_name": "Python 3"
    }
  },
  "cells": [
    {
      "cell_type": "markdown",
      "metadata": {
        "id": "view-in-github",
        "colab_type": "text"
      },
      "source": [
        "<a href=\"https://colab.research.google.com/github/moey920/Object-Detection/blob/master/Pre_trained_Word_Embedding_02_27.ipynb\" target=\"_parent\"><img src=\"https://colab.research.google.com/assets/colab-badge.svg\" alt=\"Open In Colab\"/></a>"
      ]
    },
    {
      "cell_type": "markdown",
      "metadata": {
        "id": "H9nHAyOMErED",
        "colab_type": "text"
      },
      "source": [
        "# 사전 훈련된 워드 임베딩(Pre-trained Word Embedding)\n",
        "이번엔 케라스의 임베딩 층(embedding layer)과 사전 훈련된 워드 임베딩(pre-trained word embedding)을 가져와서 사용하는 것을 비교해봅니다. 자연어 처리를 하려고 할 때 갖고 있는 훈련 데이터의 단어들을 임베딩 층(embedding layer)을 구현하여 임베딩 벡터로 학습하는 경우가 있습니다. 케라스에서는 이를 Embedding()이라는 도구를 사용하여 구현합니다.\n",
        "\n",
        "그런데 위키피디아 등과 같은 방대한 코퍼스를 가지고 Word2vec, FastText, GloVe 등을 통해서 이미 미리 훈련된 임베딩 벡터를 불러오는 방법을 사용하는 경우도 있습니다. 이는 현재 갖고 있는 훈련 데이터를 임베딩 층으로 처음부터 학습을 하는 방법과는 대조됩니다."
      ]
    },
    {
      "cell_type": "markdown",
      "metadata": {
        "id": "mlSgGorAFA6r",
        "colab_type": "text"
      },
      "source": [
        "# 케라스 임베딩 층(Keras Embedding layer)\n",
        "케라스는 훈련 데이터의 단어들에 대해 워드 임베딩을 수행하는 도구 Embedding()을 제공합니다. Embedding()은 인공 신경망 구조 관점에서 임베딩 층(embedding layer)을 구현합니다."
      ]
    },
    {
      "cell_type": "markdown",
      "metadata": {
        "id": "XK_B8TpSGLaL",
        "colab_type": "text"
      },
      "source": [
        "\n",
        "## 1) 임베딩 층은 룩업 테이블이다.\n",
        "임베딩 층의 입력으로 사용하기 위해서 입력 시퀀스의 각 단어들은 모두 정수 인코딩이 되어있어야 합니다.\n",
        "\n",
        "어떤 단어 → 단어에 부여된 고유한 정수값 → 임베딩 층 통과 → 밀집 벡터\n",
        "\n",
        "임베딩 층은 입력 정수에 대해 밀집 벡터(dense vector)로 맵핑하고 이 밀집 벡터는 인공 신경망의 학습 과정에서 가중치가 학습되는 것과 같은 방식으로 훈련됩니다. 훈련 과정에서 단어는 모델이 풀고자하는 작업에 맞는 값으로 업데이트 됩니다. 그리고 이 밀집 벡터를 임베딩 벡터라고 부릅니다.\n",
        "\n",
        "정수를 밀집 벡터 또는 임베딩 벡터로 맵핑한다는 것은 어떤 의미일까요? 특정 단어와 맵핑되는 정수를 인덱스로 가지는 테이블로부터 임베딩 벡터 값을 가져오는 룩업 테이블이라고 볼 수 있습니다. 그리고 이 테이블은 단어 집합의 크기만큼의 행을 가지므로 모든 단어는 고유한 임베딩 벡터를 가집니다.\n",
        "\n",
        "![image.png](data:image/png;base64,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)\n",
        "\n"
      ]
    },
    {
      "cell_type": "markdown",
      "metadata": {
        "id": "y-vZB4ysFtfD",
        "colab_type": "text"
      },
      "source": [
        "위의 그림은 단어 great이 정수 인코딩 된 후 테이블로부터 해당 인덱스에 위치한 임베딩 벡터를 꺼내오는 모습을 보여줍니다. 위의 그림에서는 임베딩 벡터의 차원이 4로 설정되어져 있습니다. 그리고 단어 great은 정수 인코딩 과정에서 1,918의 정수로 인코딩이 되었고 그에 따라 단어 집합의 크기만큼의 행을 가지는 테이블에서 인덱스 1,918번에 위치한 행을 단어 great의 임베딩 벡터로 사용합니다. 이 임베딩 벡터는 모델의 입력이 되고, 역전파 과정에서 단어 great의 임베딩 벡터값이 학습됩니다.\n",
        "\n",
        "룩업 테이블의 개념을 이론적으로 우선 접하고, 처음 케라스를 배울 때 어떤 분들은 임베딩 층의 입력이 원-핫 벡터가 아니어도 동작한다는 점에 헷갈려 합니다. 케라스는 단어를 정수 인덱스로 바꾸고 원-핫 벡터로 한번 더 바꾸고나서 임베딩 층의 입력으로 사용하는 것이 아니라, 단어를 정수 인덱스로만 바꾼채로 임베딩 층의 입력으로 사용해도 룩업 테이블 된 결과인 임베딩 벡터를 리턴합니다.\n",
        "\n",
        "케라스의 임베딩 층 구현 코드를 봅시다."
      ]
    },
    {
      "cell_type": "code",
      "metadata": {
        "id": "cE2ty9OEFTQd",
        "colab_type": "code",
        "colab": {}
      },
      "source": [
        "# 아래의 각 인자는 임의로 선정한 숫자들이며 의미있는 선정 기준이 아님.\n",
        "v = Embedding(20000, 128, input_length=500)\n",
        "# vocab_size = 20000\n",
        "# output_dim = 128\n",
        "# input_length = 500"
      ],
      "execution_count": 0,
      "outputs": []
    },
    {
      "cell_type": "markdown",
      "metadata": {
        "id": "ubgK5ZMQGA4Z",
        "colab_type": "text"
      },
      "source": [
        "임베딩 층은 다음과 같은 세 개의 인자를 받습니다.\n",
        "\n",
        "vocab_size : 텍스트 데이터의 전체 단어 집합의 크기입니다.\n",
        "output_dim : 워드 임베딩 후의 임베딩 벡터의 차원입니다.\n",
        "input_length : 입력 시퀀스의 길이입니다. 만약 갖고있는 각 샘플의 길이가 500개의 단어로 구성되어있다면 이 값은 500이 됩니다.\n",
        "\n",
        "Embedding()은 (number of samples, input_length)인 2D 정수 텐서를 입력받습니다. 이 때 각 sample은 정수 인코딩이 된 결과로, 정수의 시퀀스입니다. Embedding()은 워드 임베딩 작업을 수행하고 (number of samples, input_length, embedding word dimentionality)인 3D 실수 텐서를 리턴합니다. 케라스의 임베딩 층(embedding layer)을 사용하는 간단한 실습을 진행해보겠습니다."
      ]
    },
    {
      "cell_type": "markdown",
      "metadata": {
        "id": "kYiCPT0IGQSL",
        "colab_type": "text"
      },
      "source": [
        "## 2) 임베딩 층 사용하기\n",
        "\n",
        "임베딩 층을 복습해보겠습니다. 문장의 긍, 부정을 판단하는 감성 분류 모델을 만들어봅시다."
      ]
    },
    {
      "cell_type": "code",
      "metadata": {
        "id": "SfupF3aIGUd9",
        "colab_type": "code",
        "colab": {
          "base_uri": "https://localhost:8080/",
          "height": 64
        },
        "outputId": "ad0bec5b-8f2f-4d87-c640-be32b44b7db3"
      },
      "source": [
        "from tensorflow.keras.preprocessing.text import Tokenizer\n",
        "from tensorflow.keras.preprocessing.sequence import pad_sequences\n",
        "import numpy as np"
      ],
      "execution_count": 1,
      "outputs": [
        {
          "output_type": "display_data",
          "data": {
            "text/html": [
              "<p style=\"color: red;\">\n",
              "The default version of TensorFlow in Colab will soon switch to TensorFlow 2.x.<br>\n",
              "We recommend you <a href=\"https://www.tensorflow.org/guide/migrate\" target=\"_blank\">upgrade</a> now \n",
              "or ensure your notebook will continue to use TensorFlow 1.x via the <code>%tensorflow_version 1.x</code> magic:\n",
              "<a href=\"https://colab.research.google.com/notebooks/tensorflow_version.ipynb\" target=\"_blank\">more info</a>.</p>\n"
            ],
            "text/plain": [
              "<IPython.core.display.HTML object>"
            ]
          },
          "metadata": {
            "tags": []
          }
        }
      ]
    },
    {
      "cell_type": "code",
      "metadata": {
        "id": "5iR850QhGX5o",
        "colab_type": "code",
        "colab": {}
      },
      "source": [
        "sentences = ['nice great best amazing', 'stop lies', 'pitiful nerd', 'excellent work', 'supreme quality', 'bad', 'highly respectable']\n",
        "y_train = [1, 0, 0, 1, 1, 0, 1]"
      ],
      "execution_count": 0,
      "outputs": []
    },
    {
      "cell_type": "markdown",
      "metadata": {
        "id": "c8IWXCMYGddc",
        "colab_type": "text"
      },
      "source": [
        "문장과 레이블 데이터를 만들었습니다. 긍정인 문장은 레이블 1, 부정인 문장은 레이블이 0입니다."
      ]
    },
    {
      "cell_type": "code",
      "metadata": {
        "id": "X4W0_rzVGah_",
        "colab_type": "code",
        "colab": {
          "base_uri": "https://localhost:8080/",
          "height": 35
        },
        "outputId": "8c22b3c9-6101-4a55-f146-62846b57ff86"
      },
      "source": [
        "t = Tokenizer()\n",
        "t.fit_on_texts(sentences)\n",
        "vocab_size = len(t.word_index) + 1\n",
        "\n",
        "print(vocab_size)"
      ],
      "execution_count": 3,
      "outputs": [
        {
          "output_type": "stream",
          "text": [
            "16\n"
          ],
          "name": "stdout"
        }
      ]
    },
    {
      "cell_type": "markdown",
      "metadata": {
        "id": "DkxAmboaGhpc",
        "colab_type": "text"
      },
      "source": [
        "케라스의 Tokenizer()를 사용하여 토큰화를 시켰습니다."
      ]
    },
    {
      "cell_type": "code",
      "metadata": {
        "id": "UErURv0bGfKa",
        "colab_type": "code",
        "colab": {
          "base_uri": "https://localhost:8080/",
          "height": 35
        },
        "outputId": "f5cc6033-6baf-424e-ab15-b0a2b2e2e58f"
      },
      "source": [
        "X_encoded = t.texts_to_sequences(sentences)\n",
        "print(X_encoded)"
      ],
      "execution_count": 4,
      "outputs": [
        {
          "output_type": "stream",
          "text": [
            "[[1, 2, 3, 4], [5, 6], [7, 8], [9, 10], [11, 12], [13], [14, 15]]\n"
          ],
          "name": "stdout"
        }
      ]
    },
    {
      "cell_type": "markdown",
      "metadata": {
        "id": "9xzE44uGGm8D",
        "colab_type": "text"
      },
      "source": [
        "각 문장에 대해서 정수 인코딩을 수행합니다."
      ]
    },
    {
      "cell_type": "code",
      "metadata": {
        "id": "4exF7-PoGjpy",
        "colab_type": "code",
        "colab": {
          "base_uri": "https://localhost:8080/",
          "height": 35
        },
        "outputId": "3a88a105-e9ca-4efb-c0d3-fb282237187b"
      },
      "source": [
        "max_len=max(len(l) for l in X_encoded)\n",
        "print(max_len)"
      ],
      "execution_count": 5,
      "outputs": [
        {
          "output_type": "stream",
          "text": [
            "4\n"
          ],
          "name": "stdout"
        }
      ]
    },
    {
      "cell_type": "markdown",
      "metadata": {
        "id": "UNVs6oglGp7f",
        "colab_type": "text"
      },
      "source": [
        "문장 중에서 가장 길이가 긴 문장의 길이는 4입니다."
      ]
    },
    {
      "cell_type": "code",
      "metadata": {
        "id": "3-HitUKrGoo3",
        "colab_type": "code",
        "colab": {
          "base_uri": "https://localhost:8080/",
          "height": 143
        },
        "outputId": "e171f15b-cb06-4acd-8d11-8991dd0c3a6b"
      },
      "source": [
        "X_train=pad_sequences(X_encoded, maxlen=max_len, padding='post')\n",
        "y_train=np.array(y_train)\n",
        "print(X_train)"
      ],
      "execution_count": 6,
      "outputs": [
        {
          "output_type": "stream",
          "text": [
            "[[ 1  2  3  4]\n",
            " [ 5  6  0  0]\n",
            " [ 7  8  0  0]\n",
            " [ 9 10  0  0]\n",
            " [11 12  0  0]\n",
            " [13  0  0  0]\n",
            " [14 15  0  0]]\n"
          ],
          "name": "stdout"
        }
      ]
    },
    {
      "cell_type": "markdown",
      "metadata": {
        "id": "bxezKibWGvOu",
        "colab_type": "text"
      },
      "source": [
        "모든 문장을 패딩하여 길이를 4로 만들어주었습니다. 훈련 데이터에 대한 전처리가 끝났습니다. 모델을 설계합니다."
      ]
    },
    {
      "cell_type": "code",
      "metadata": {
        "id": "z8j9zk3NGsYA",
        "colab_type": "code",
        "colab": {
          "base_uri": "https://localhost:8080/",
          "height": 145
        },
        "outputId": "c5ae7225-d52b-4036-e9dd-a0b8d02b96ce"
      },
      "source": [
        "from tensorflow.keras.models import Sequential\n",
        "from tensorflow.keras.layers import Dense, Embedding, Flatten\n",
        "\n",
        "model = Sequential()\n",
        "model.add(Embedding(vocab_size, 4, input_length=max_len)) # 모든 임베딩 벡터는 4차원.\n",
        "model.add(Flatten()) # Dense의 입력으로 넣기위함.\n",
        "model.add(Dense(1, activation='sigmoid'))"
      ],
      "execution_count": 7,
      "outputs": [
        {
          "output_type": "stream",
          "text": [
            "WARNING:tensorflow:From /usr/local/lib/python3.6/dist-packages/tensorflow_core/python/keras/initializers.py:119: calling RandomUniform.__init__ (from tensorflow.python.ops.init_ops) with dtype is deprecated and will be removed in a future version.\n",
            "Instructions for updating:\n",
            "Call initializer instance with the dtype argument instead of passing it to the constructor\n",
            "WARNING:tensorflow:From /usr/local/lib/python3.6/dist-packages/tensorflow_core/python/ops/resource_variable_ops.py:1630: calling BaseResourceVariable.__init__ (from tensorflow.python.ops.resource_variable_ops) with constraint is deprecated and will be removed in a future version.\n",
            "Instructions for updating:\n",
            "If using Keras pass *_constraint arguments to layers.\n"
          ],
          "name": "stdout"
        }
      ]
    },
    {
      "cell_type": "markdown",
      "metadata": {
        "id": "8psnDzEyG0Xm",
        "colab_type": "text"
      },
      "source": [
        "출력층에 1개의 뉴런에 활성화 함수로는 시그모이드 함수를 사용하여 이진 분류를 수행합니다."
      ]
    },
    {
      "cell_type": "code",
      "metadata": {
        "id": "EVdzme9jGx-n",
        "colab_type": "code",
        "colab": {
          "base_uri": "https://localhost:8080/",
          "height": 1000
        },
        "outputId": "7cd85668-85e7-416b-c94d-122709f7b283"
      },
      "source": [
        "model.compile(optimizer='adam', loss='binary_crossentropy', metrics=['acc'])\n",
        "model.fit(X_train, y_train, epochs=100, verbose=2)"
      ],
      "execution_count": 8,
      "outputs": [
        {
          "output_type": "stream",
          "text": [
            "WARNING:tensorflow:From /usr/local/lib/python3.6/dist-packages/tensorflow_core/python/ops/nn_impl.py:183: where (from tensorflow.python.ops.array_ops) is deprecated and will be removed in a future version.\n",
            "Instructions for updating:\n",
            "Use tf.where in 2.0, which has the same broadcast rule as np.where\n",
            "Train on 7 samples\n",
            "Epoch 1/100\n",
            "7/7 - 0s - loss: 0.6960 - acc: 0.5714\n",
            "Epoch 2/100\n",
            "7/7 - 0s - loss: 0.6945 - acc: 0.5714\n",
            "Epoch 3/100\n",
            "7/7 - 0s - loss: 0.6931 - acc: 0.5714\n",
            "Epoch 4/100\n",
            "7/7 - 0s - loss: 0.6917 - acc: 0.5714\n",
            "Epoch 5/100\n",
            "7/7 - 0s - loss: 0.6903 - acc: 0.5714\n",
            "Epoch 6/100\n",
            "7/7 - 0s - loss: 0.6889 - acc: 0.5714\n",
            "Epoch 7/100\n",
            "7/7 - 0s - loss: 0.6875 - acc: 0.5714\n",
            "Epoch 8/100\n",
            "7/7 - 0s - loss: 0.6861 - acc: 0.5714\n",
            "Epoch 9/100\n",
            "7/7 - 0s - loss: 0.6848 - acc: 0.5714\n",
            "Epoch 10/100\n",
            "7/7 - 0s - loss: 0.6834 - acc: 0.5714\n",
            "Epoch 11/100\n",
            "7/7 - 0s - loss: 0.6820 - acc: 0.5714\n",
            "Epoch 12/100\n",
            "7/7 - 0s - loss: 0.6806 - acc: 0.5714\n",
            "Epoch 13/100\n",
            "7/7 - 0s - loss: 0.6792 - acc: 0.5714\n",
            "Epoch 14/100\n",
            "7/7 - 0s - loss: 0.6777 - acc: 0.5714\n",
            "Epoch 15/100\n",
            "7/7 - 0s - loss: 0.6763 - acc: 0.5714\n",
            "Epoch 16/100\n",
            "7/7 - 0s - loss: 0.6749 - acc: 0.5714\n",
            "Epoch 17/100\n",
            "7/7 - 0s - loss: 0.6735 - acc: 0.5714\n",
            "Epoch 18/100\n",
            "7/7 - 0s - loss: 0.6721 - acc: 0.5714\n",
            "Epoch 19/100\n",
            "7/7 - 0s - loss: 0.6706 - acc: 0.5714\n",
            "Epoch 20/100\n",
            "7/7 - 0s - loss: 0.6692 - acc: 0.5714\n",
            "Epoch 21/100\n",
            "7/7 - 0s - loss: 0.6677 - acc: 0.5714\n",
            "Epoch 22/100\n",
            "7/7 - 0s - loss: 0.6663 - acc: 0.5714\n",
            "Epoch 23/100\n",
            "7/7 - 0s - loss: 0.6648 - acc: 0.5714\n",
            "Epoch 24/100\n",
            "7/7 - 0s - loss: 0.6633 - acc: 0.7143\n",
            "Epoch 25/100\n",
            "7/7 - 0s - loss: 0.6618 - acc: 0.7143\n",
            "Epoch 26/100\n",
            "7/7 - 0s - loss: 0.6603 - acc: 0.7143\n",
            "Epoch 27/100\n",
            "7/7 - 0s - loss: 0.6588 - acc: 0.7143\n",
            "Epoch 28/100\n",
            "7/7 - 0s - loss: 0.6573 - acc: 0.7143\n",
            "Epoch 29/100\n",
            "7/7 - 0s - loss: 0.6558 - acc: 0.7143\n",
            "Epoch 30/100\n",
            "7/7 - 0s - loss: 0.6543 - acc: 0.7143\n",
            "Epoch 31/100\n",
            "7/7 - 0s - loss: 0.6528 - acc: 0.7143\n",
            "Epoch 32/100\n",
            "7/7 - 0s - loss: 0.6512 - acc: 0.7143\n",
            "Epoch 33/100\n",
            "7/7 - 0s - loss: 0.6497 - acc: 0.7143\n",
            "Epoch 34/100\n",
            "7/7 - 0s - loss: 0.6481 - acc: 0.7143\n",
            "Epoch 35/100\n",
            "7/7 - 0s - loss: 0.6465 - acc: 0.7143\n",
            "Epoch 36/100\n",
            "7/7 - 0s - loss: 0.6449 - acc: 0.7143\n",
            "Epoch 37/100\n",
            "7/7 - 0s - loss: 0.6433 - acc: 0.7143\n",
            "Epoch 38/100\n",
            "7/7 - 0s - loss: 0.6417 - acc: 0.7143\n",
            "Epoch 39/100\n",
            "7/7 - 0s - loss: 0.6401 - acc: 0.7143\n",
            "Epoch 40/100\n",
            "7/7 - 0s - loss: 0.6385 - acc: 0.7143\n",
            "Epoch 41/100\n",
            "7/7 - 0s - loss: 0.6369 - acc: 0.7143\n",
            "Epoch 42/100\n",
            "7/7 - 0s - loss: 0.6352 - acc: 0.7143\n",
            "Epoch 43/100\n",
            "7/7 - 0s - loss: 0.6336 - acc: 0.7143\n",
            "Epoch 44/100\n",
            "7/7 - 0s - loss: 0.6319 - acc: 0.7143\n",
            "Epoch 45/100\n",
            "7/7 - 0s - loss: 0.6303 - acc: 0.7143\n",
            "Epoch 46/100\n",
            "7/7 - 0s - loss: 0.6286 - acc: 0.7143\n",
            "Epoch 47/100\n",
            "7/7 - 0s - loss: 0.6269 - acc: 0.7143\n",
            "Epoch 48/100\n",
            "7/7 - 0s - loss: 0.6252 - acc: 0.7143\n",
            "Epoch 49/100\n",
            "7/7 - 0s - loss: 0.6235 - acc: 0.7143\n",
            "Epoch 50/100\n",
            "7/7 - 0s - loss: 0.6218 - acc: 1.0000\n",
            "Epoch 51/100\n",
            "7/7 - 0s - loss: 0.6201 - acc: 1.0000\n",
            "Epoch 52/100\n",
            "7/7 - 0s - loss: 0.6184 - acc: 1.0000\n",
            "Epoch 53/100\n",
            "7/7 - 0s - loss: 0.6166 - acc: 1.0000\n",
            "Epoch 54/100\n",
            "7/7 - 0s - loss: 0.6149 - acc: 1.0000\n",
            "Epoch 55/100\n",
            "7/7 - 0s - loss: 0.6131 - acc: 1.0000\n",
            "Epoch 56/100\n",
            "7/7 - 0s - loss: 0.6113 - acc: 1.0000\n",
            "Epoch 57/100\n",
            "7/7 - 0s - loss: 0.6096 - acc: 1.0000\n",
            "Epoch 58/100\n",
            "7/7 - 0s - loss: 0.6078 - acc: 1.0000\n",
            "Epoch 59/100\n",
            "7/7 - 0s - loss: 0.6060 - acc: 1.0000\n",
            "Epoch 60/100\n",
            "7/7 - 0s - loss: 0.6042 - acc: 1.0000\n",
            "Epoch 61/100\n",
            "7/7 - 0s - loss: 0.6024 - acc: 1.0000\n",
            "Epoch 62/100\n",
            "7/7 - 0s - loss: 0.6005 - acc: 1.0000\n",
            "Epoch 63/100\n",
            "7/7 - 0s - loss: 0.5987 - acc: 1.0000\n",
            "Epoch 64/100\n",
            "7/7 - 0s - loss: 0.5969 - acc: 1.0000\n",
            "Epoch 65/100\n",
            "7/7 - 0s - loss: 0.5950 - acc: 1.0000\n",
            "Epoch 66/100\n",
            "7/7 - 0s - loss: 0.5932 - acc: 1.0000\n",
            "Epoch 67/100\n",
            "7/7 - 0s - loss: 0.5913 - acc: 1.0000\n",
            "Epoch 68/100\n",
            "7/7 - 0s - loss: 0.5894 - acc: 1.0000\n",
            "Epoch 69/100\n",
            "7/7 - 0s - loss: 0.5875 - acc: 1.0000\n",
            "Epoch 70/100\n",
            "7/7 - 0s - loss: 0.5856 - acc: 1.0000\n",
            "Epoch 71/100\n",
            "7/7 - 0s - loss: 0.5837 - acc: 1.0000\n",
            "Epoch 72/100\n",
            "7/7 - 0s - loss: 0.5818 - acc: 1.0000\n",
            "Epoch 73/100\n",
            "7/7 - 0s - loss: 0.5799 - acc: 1.0000\n",
            "Epoch 74/100\n",
            "7/7 - 0s - loss: 0.5780 - acc: 1.0000\n",
            "Epoch 75/100\n",
            "7/7 - 0s - loss: 0.5761 - acc: 1.0000\n",
            "Epoch 76/100\n",
            "7/7 - 0s - loss: 0.5741 - acc: 1.0000\n",
            "Epoch 77/100\n",
            "7/7 - 0s - loss: 0.5722 - acc: 1.0000\n",
            "Epoch 78/100\n",
            "7/7 - 0s - loss: 0.5702 - acc: 1.0000\n",
            "Epoch 79/100\n",
            "7/7 - 0s - loss: 0.5683 - acc: 1.0000\n",
            "Epoch 80/100\n",
            "7/7 - 0s - loss: 0.5663 - acc: 1.0000\n",
            "Epoch 81/100\n",
            "7/7 - 0s - loss: 0.5643 - acc: 1.0000\n",
            "Epoch 82/100\n",
            "7/7 - 0s - loss: 0.5623 - acc: 1.0000\n",
            "Epoch 83/100\n",
            "7/7 - 0s - loss: 0.5603 - acc: 1.0000\n",
            "Epoch 84/100\n",
            "7/7 - 0s - loss: 0.5583 - acc: 1.0000\n",
            "Epoch 85/100\n",
            "7/7 - 0s - loss: 0.5563 - acc: 1.0000\n",
            "Epoch 86/100\n",
            "7/7 - 0s - loss: 0.5543 - acc: 1.0000\n",
            "Epoch 87/100\n",
            "7/7 - 0s - loss: 0.5523 - acc: 1.0000\n",
            "Epoch 88/100\n",
            "7/7 - 0s - loss: 0.5503 - acc: 1.0000\n",
            "Epoch 89/100\n",
            "7/7 - 0s - loss: 0.5483 - acc: 1.0000\n",
            "Epoch 90/100\n",
            "7/7 - 0s - loss: 0.5462 - acc: 1.0000\n",
            "Epoch 91/100\n",
            "7/7 - 0s - loss: 0.5442 - acc: 1.0000\n",
            "Epoch 92/100\n",
            "7/7 - 0s - loss: 0.5421 - acc: 1.0000\n",
            "Epoch 93/100\n",
            "7/7 - 0s - loss: 0.5401 - acc: 1.0000\n",
            "Epoch 94/100\n",
            "7/7 - 0s - loss: 0.5380 - acc: 1.0000\n",
            "Epoch 95/100\n",
            "7/7 - 0s - loss: 0.5360 - acc: 1.0000\n",
            "Epoch 96/100\n",
            "7/7 - 0s - loss: 0.5339 - acc: 1.0000\n",
            "Epoch 97/100\n",
            "7/7 - 0s - loss: 0.5318 - acc: 1.0000\n",
            "Epoch 98/100\n",
            "7/7 - 0s - loss: 0.5297 - acc: 1.0000\n",
            "Epoch 99/100\n",
            "7/7 - 0s - loss: 0.5277 - acc: 1.0000\n",
            "Epoch 100/100\n",
            "7/7 - 0s - loss: 0.5256 - acc: 1.0000\n"
          ],
          "name": "stdout"
        },
        {
          "output_type": "execute_result",
          "data": {
            "text/plain": [
              "<tensorflow.python.keras.callbacks.History at 0x7f0f4a972048>"
            ]
          },
          "metadata": {
            "tags": []
          },
          "execution_count": 8
        }
      ]
    },
    {
      "cell_type": "markdown",
      "metadata": {
        "id": "W0S9qa2jG5Xi",
        "colab_type": "text"
      },
      "source": [
        "테스트 데이터에 대한 정확도가 아니며 훈련 데이터도 양이 적어서 정확도에 의미는 없지만, 여기서 말하고자 하는 점은 현재 각 단어들의 임베딩 벡터들의 값은 학습 과정에서 다른 가중치들과 함께 학습된 값입니다."
      ]
    },
    {
      "cell_type": "code",
      "metadata": {
        "id": "OKt5nOhoG28i",
        "colab_type": "code",
        "colab": {}
      },
      "source": [
        ""
      ],
      "execution_count": 0,
      "outputs": []
    },
    {
      "cell_type": "markdown",
      "metadata": {
        "id": "Z6Tpiul6G_jc",
        "colab_type": "text"
      },
      "source": [
        "# 사전 훈련된 워드 임베딩(Pre-Trained Word Embedding) 사용하기\n",
        "\n",
        "임베딩 벡터를 얻기 위해서 케라스의 Embedding()을 사용하기도 하지만, 때로는 이미 훈련되어져 있는 워드 임베딩을 불러서 이를 임베딩 벡터로 사용하기도 합니다. 훈련 데이터가 적은 상황이라면 모델에 케라스의 Embedding()을 사용하는 것보다 다른 텍스트 데이터로 사전 훈련되어 있는 임베딩 벡터를 불러오는 것이 나은 선택일 수 있습니다.\n",
        "\n",
        "훈련 데이터가 적다면 케라스의 Embedding()으로 해당 문제에 충분히 특화된 임베딩 벡터를 만들어내는 것이 쉽지 않습니다. 차라리 해당 문제에 특화된 임베딩 벡터를 만드는 것이 어렵다면, 해당 문제에 특화된 것은 아니지만 보다 일반적이고 보다 많은 훈련 데이터로 이미 Word2Vec이나 GloVe 등으로 학습되어져 있는 임베딩 벡터들을 사용하는 것이 성능의 개선을 가져올 수 있습니다.\n",
        "\n",
        "사전 훈련된 GloVe와 Word2Vec 임베딩을 사용해서 모델을 훈련시키는 실습을 진행해봅시다.\n",
        "\n",
        "GloVe 다운로드 링크 : http://nlp.stanford.edu/data/glove.6B.zip\n",
        "\n",
        "Word2Vec 다운로드 링크 : https://drive.google.com/file/d/0B7XkCwpI5KDYNlNUTTlSS21pQmM\n",
        "\n",
        "훈련 데이터는 앞서 사용했던 데이터에 동일한 전처리가 수행된 상태라고 가정하겠습니다."
      ]
    },
    {
      "cell_type": "code",
      "metadata": {
        "id": "J6LTjtsGHHOF",
        "colab_type": "code",
        "colab": {
          "base_uri": "https://localhost:8080/",
          "height": 143
        },
        "outputId": "4e75cbde-e7a7-4587-a1d3-5211c0a0a9be"
      },
      "source": [
        "print(X_train)"
      ],
      "execution_count": 9,
      "outputs": [
        {
          "output_type": "stream",
          "text": [
            "[[ 1  2  3  4]\n",
            " [ 5  6  0  0]\n",
            " [ 7  8  0  0]\n",
            " [ 9 10  0  0]\n",
            " [11 12  0  0]\n",
            " [13  0  0  0]\n",
            " [14 15  0  0]]\n"
          ],
          "name": "stdout"
        }
      ]
    },
    {
      "cell_type": "code",
      "metadata": {
        "id": "LcWC3lB5HL5p",
        "colab_type": "code",
        "colab": {
          "base_uri": "https://localhost:8080/",
          "height": 35
        },
        "outputId": "ab4d2786-9250-4b44-ad70-dce4b6bba13b"
      },
      "source": [
        "print(y_train)"
      ],
      "execution_count": 10,
      "outputs": [
        {
          "output_type": "stream",
          "text": [
            "[1 0 0 1 1 0 1]\n"
          ],
          "name": "stdout"
        }
      ]
    },
    {
      "cell_type": "markdown",
      "metadata": {
        "id": "4CnHOocFHO3f",
        "colab_type": "text"
      },
      "source": [
        "## 1) 사전 훈련된 GloVe 사용하기\n",
        "\n",
        "이제 임베딩 층을 설계하기 위한 과정부터 달라집니다. 우선 다운로드 받은 파일인 glove.6B.zip의 압축을 풀면 그 안에 4개의 파일이 있는데 여기서 사용할 파일은 glove.6B.100d.txt 파일입니다. 해당 파일은 하나의 줄당 101개의 값을 가지는 리스트를 갖고 있습니다. 두 개의 줄만 읽어보도록 하겠습니다."
      ]
    },
    {
      "cell_type": "markdown",
      "metadata": {
        "id": "WqBLJLNtLZd2",
        "colab_type": "text"
      },
      "source": [
        "### [꿀팁]Colab에서 구글 드라이브 마운트를 통해 파일 가져오기\n",
        "Colab에서 구글 드라이브 API를 통해 굳이 연결하지 않더라도,\n",
        "Colab 왼쪽 상단을 보면 폴더 모양의 아이콘이 있습니다. 이를 클릭하고\n",
        "드라이브 마운트를 통해 계정에 연결해놓으면 개인 구글 드라이브에 있는 폴더들이 나타납니다.\n",
        "이 중 content/drive/Mydrive/ 로 들어가면 자신의 구글 드라이브에 있는 폴더와 파일들이 나타납니다.\n",
        "사용하고자 하는 파일을 우클릭하고 경로를 복사하면\n",
        "f = open('복사한 경로 붙여넣기')를 통해\n",
        "간편하게 사용할 수 있습니다."
      ]
    },
    {
      "cell_type": "code",
      "metadata": {
        "id": "_bq9DlfiKyVV",
        "colab_type": "code",
        "colab": {
          "base_uri": "https://localhost:8080/",
          "height": 89
        },
        "outputId": "1cb9190a-3aa9-426b-fe04-6c0175be6990"
      },
      "source": [
        "n=0\n",
        "f = open('/content/drive/My Drive/text/data.txt', encoding=\"utf8\")\n",
        "\n",
        "for line in f:\n",
        "    word_vector = line.split() # 각 줄을 읽어와서 word_vector에 저장.\n",
        "    print(word_vector) # 각 줄을 출력\n",
        "    word = word_vector[0] # word_vector에서 첫번째 값만 저장\n",
        "    print(word) # word_vector의 첫번째 값만 출력\n",
        "    n=n+1\n",
        "    if n==2:\n",
        "        break\n",
        "f.close()"
      ],
      "execution_count": 11,
      "outputs": [
        {
          "output_type": "stream",
          "text": [
            "['CI올리브영(', ')', '이정', '부대로', '|||||||||']\n",
            "CI올리브영(\n",
            "['경기도', '의정부시', '평화로', '552', '|', ':031-', '856', '-', '5290']\n",
            "경기도\n"
          ],
          "name": "stdout"
        }
      ]
    },
    {
      "cell_type": "code",
      "metadata": {
        "id": "3yOj8HwHK033",
        "colab_type": "code",
        "colab": {
          "base_uri": "https://localhost:8080/",
          "height": 53
        },
        "outputId": "78d68197-e417-4a8e-8548-63c797686517"
      },
      "source": [
        "print(type(word_vector))\n",
        "print(len(word_vector))"
      ],
      "execution_count": 12,
      "outputs": [
        {
          "output_type": "stream",
          "text": [
            "<class 'list'>\n",
            "9\n"
          ],
          "name": "stdout"
        }
      ]
    },
    {
      "cell_type": "markdown",
      "metadata": {
        "id": "sXCiZuAwLx-k",
        "colab_type": "text"
      },
      "source": [
        "101개의 값 중에서 첫번째 값은 임베딩 벡터가 의미하는 단어를 의미하며, \n",
        "두번째 값부터 마지막 값은 해당 단어의 임베딩 벡터의 100개의 차원에서의 각 값을 의미합니다. \n",
        "\n",
        "즉, glove.6B.100d.txt는 수많은 단어에 대해서 100개의 차원을 가지는 임베딩 벡터로 제공하고 있습니다. \n",
        "\n",
        "위의 출력 결과는 단어 'the'에 대해서 100개의 차원을 가지는 임베딩 벡터와 단어 ','에 대해서 100개의 차원을 가지는 임베딩 벡터를 보여줍니다. \n",
        "\n",
        "그러면 이제 glove.6B.100d.txt에 있는 모든 임베딩 벡터들을 불러와보겠습니다. \n",
        "\n",
        "형식은 키(key)와 값(value)의 쌍(pair)를 가지는 파이썬의 사전형 구조를 사용합니다."
      ]
    },
    {
      "cell_type": "code",
      "metadata": {
        "id": "VBz513GXLtYq",
        "colab_type": "code",
        "colab": {
          "base_uri": "https://localhost:8080/",
          "height": 370
        },
        "outputId": "0b425046-92d4-4023-dc45-56661d85bc45"
      },
      "source": [
        "import numpy as np\n",
        "embedding_dict = dict()\n",
        "f = open('/content/drive/My Drive/text/data.txt', encoding=\"utf8\")\n",
        "\n",
        "for line in f:\n",
        "    word_vector = line.split()\n",
        "    word = word_vector[0]\n",
        "    word_vector_arr = np.asarray(word_vector[1:], dtype='float32') # 100개의 값을 가지는 array로 변환\n",
        "    embedding_dict[word] = word_vector_arr\n",
        "f.close()\n",
        "print('%s개의 Embedding vector가 있습니다.' % len(embedding_dict))"
      ],
      "execution_count": 13,
      "outputs": [
        {
          "output_type": "error",
          "ename": "ValueError",
          "evalue": "ignored",
          "traceback": [
            "\u001b[0;31m---------------------------------------------------------------------------\u001b[0m",
            "\u001b[0;31mValueError\u001b[0m                                Traceback (most recent call last)",
            "\u001b[0;32m<ipython-input-13-6111490b3c50>\u001b[0m in \u001b[0;36m<module>\u001b[0;34m()\u001b[0m\n\u001b[1;32m      6\u001b[0m     \u001b[0mword_vector\u001b[0m \u001b[0;34m=\u001b[0m \u001b[0mline\u001b[0m\u001b[0;34m.\u001b[0m\u001b[0msplit\u001b[0m\u001b[0;34m(\u001b[0m\u001b[0;34m)\u001b[0m\u001b[0;34m\u001b[0m\u001b[0;34m\u001b[0m\u001b[0m\n\u001b[1;32m      7\u001b[0m     \u001b[0mword\u001b[0m \u001b[0;34m=\u001b[0m \u001b[0mword_vector\u001b[0m\u001b[0;34m[\u001b[0m\u001b[0;36m0\u001b[0m\u001b[0;34m]\u001b[0m\u001b[0;34m\u001b[0m\u001b[0;34m\u001b[0m\u001b[0m\n\u001b[0;32m----> 8\u001b[0;31m     \u001b[0mword_vector_arr\u001b[0m \u001b[0;34m=\u001b[0m \u001b[0mnp\u001b[0m\u001b[0;34m.\u001b[0m\u001b[0masarray\u001b[0m\u001b[0;34m(\u001b[0m\u001b[0mword_vector\u001b[0m\u001b[0;34m[\u001b[0m\u001b[0;36m1\u001b[0m\u001b[0;34m:\u001b[0m\u001b[0;34m]\u001b[0m\u001b[0;34m,\u001b[0m \u001b[0mdtype\u001b[0m\u001b[0;34m=\u001b[0m\u001b[0;34m'float32'\u001b[0m\u001b[0;34m)\u001b[0m \u001b[0;31m# 100개의 값을 가지는 array로 변환\u001b[0m\u001b[0;34m\u001b[0m\u001b[0;34m\u001b[0m\u001b[0m\n\u001b[0m\u001b[1;32m      9\u001b[0m     \u001b[0membedding_dict\u001b[0m\u001b[0;34m[\u001b[0m\u001b[0mword\u001b[0m\u001b[0;34m]\u001b[0m \u001b[0;34m=\u001b[0m \u001b[0mword_vector_arr\u001b[0m\u001b[0;34m\u001b[0m\u001b[0;34m\u001b[0m\u001b[0m\n\u001b[1;32m     10\u001b[0m \u001b[0mf\u001b[0m\u001b[0;34m.\u001b[0m\u001b[0mclose\u001b[0m\u001b[0;34m(\u001b[0m\u001b[0;34m)\u001b[0m\u001b[0;34m\u001b[0m\u001b[0;34m\u001b[0m\u001b[0m\n",
            "\u001b[0;32m/usr/local/lib/python3.6/dist-packages/numpy/core/_asarray.py\u001b[0m in \u001b[0;36masarray\u001b[0;34m(a, dtype, order)\u001b[0m\n\u001b[1;32m     83\u001b[0m \u001b[0;34m\u001b[0m\u001b[0m\n\u001b[1;32m     84\u001b[0m     \"\"\"\n\u001b[0;32m---> 85\u001b[0;31m     \u001b[0;32mreturn\u001b[0m \u001b[0marray\u001b[0m\u001b[0;34m(\u001b[0m\u001b[0ma\u001b[0m\u001b[0;34m,\u001b[0m \u001b[0mdtype\u001b[0m\u001b[0;34m,\u001b[0m \u001b[0mcopy\u001b[0m\u001b[0;34m=\u001b[0m\u001b[0;32mFalse\u001b[0m\u001b[0;34m,\u001b[0m \u001b[0morder\u001b[0m\u001b[0;34m=\u001b[0m\u001b[0morder\u001b[0m\u001b[0;34m)\u001b[0m\u001b[0;34m\u001b[0m\u001b[0;34m\u001b[0m\u001b[0m\n\u001b[0m\u001b[1;32m     86\u001b[0m \u001b[0;34m\u001b[0m\u001b[0m\n\u001b[1;32m     87\u001b[0m \u001b[0;34m\u001b[0m\u001b[0m\n",
            "\u001b[0;31mValueError\u001b[0m: could not convert string to float: ')'"
          ]
        }
      ]
    },
    {
      "cell_type": "markdown",
      "metadata": {
        "id": "qIJz412iMPUz",
        "colab_type": "text"
      },
      "source": [
        "### 오류 발생 : 전처리 되지 않은 텍스트에 대한 문제\n",
        "위의 코드에서 \n",
        "ValueError: could not convert string to float: ')'\n",
        "에러가 발생합니다.\n",
        "\n",
        "이유는 data.txt에 들어있는 텍스트는 전혀 전처리를 거치지 않은 상태이기 때문에 array로 리턴하고자 할 때 ')'이 문제가 되기 때문입니다.\n",
        "\n",
        "해당 문자만 불용어로 처리하고 다음으로 넘어가는 것은 의미가 없기 때문에 전체 데이터에 대해 전처리를 수행한 후에 사전 훈련된 워드 임베딩을 다시 도전해보겠습니다.\n"
      ]
    },
    {
      "cell_type": "code",
      "metadata": {
        "id": "LVaa8saiMGV6",
        "colab_type": "code",
        "colab": {}
      },
      "source": [
        ""
      ],
      "execution_count": 0,
      "outputs": []
    },
    {
      "cell_type": "markdown",
      "metadata": {
        "id": "NOMAPfshM2pV",
        "colab_type": "text"
      },
      "source": [
        "# 전처리 후 재도전"
      ]
    },
    {
      "cell_type": "code",
      "metadata": {
        "id": "s6iiquDQM5Fd",
        "colab_type": "code",
        "colab": {}
      },
      "source": [
        ""
      ],
      "execution_count": 0,
      "outputs": []
    }
  ]
}