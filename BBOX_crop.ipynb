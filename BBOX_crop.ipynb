{
  "nbformat": 4,
  "nbformat_minor": 0,
  "metadata": {
    "colab": {
      "name": "BBOX_crop.ipynb",
      "provenance": [],
      "collapsed_sections": [],
      "mount_file_id": "15w3vFZVKGRNcuqgt0FE-1AuvO7yDTTLB",
      "authorship_tag": "ABX9TyMQhjapXuo57ItgSQUOwRRV",
      "include_colab_link": true
    },
    "kernelspec": {
      "name": "python3",
      "display_name": "Python 3"
    }
  },
  "cells": [
    {
      "cell_type": "markdown",
      "metadata": {
        "id": "view-in-github",
        "colab_type": "text"
      },
      "source": [
        "<a href=\"https://colab.research.google.com/github/moey920/Object-Detection/blob/master/BBOX_crop.ipynb\" target=\"_parent\"><img src=\"https://colab.research.google.com/assets/colab-badge.svg\" alt=\"Open In Colab\"/></a>"
      ]
    },
    {
      "cell_type": "code",
      "metadata": {
        "id": "Jks309t9Zj0F",
        "colab_type": "code",
        "colab": {}
      },
      "source": [
        "json_file = open('/content/drive/My Drive/datt/coco_instances_results.json', \"r\") "
      ],
      "execution_count": 0,
      "outputs": []
    },
    {
      "cell_type": "code",
      "metadata": {
        "id": "Xb28tVddaEPb",
        "colab_type": "code",
        "colab": {}
      },
      "source": [
        "import json\n",
        "from collections import OrderedDict\n",
        "from pprint import pprint\n",
        " \n",
        "with open('/content/drive/My Drive/datt/coco_instances_results.json', encoding=\"utf-8\") as data_file:    \n",
        "    data = json.load(data_file, object_pairs_hook=OrderedDict)\n",
        " \n",
        "pprint(data[0])"
      ],
      "execution_count": 0,
      "outputs": []
    },
    {
      "cell_type": "code",
      "metadata": {
        "id": "QWaHyOSRcSh9",
        "colab_type": "code",
        "colab": {}
      },
      "source": [
        "import json\n",
        "from collections import OrderedDict\n",
        " \n",
        "with open('/content/drive/My Drive/datt/coco_instances_results.json', encoding=\"utf-8\") as data_file:    \n",
        "    data = json.load(data_file)#, object_pairs_hook=OrderedDict)\n",
        "\n",
        "\n",
        "for item in data :\n",
        "  print('id', item['image_id'], 'bbox', item['bbox'])"
      ],
      "execution_count": 0,
      "outputs": []
    },
    {
      "cell_type": "code",
      "metadata": {
        "id": "JvAMYwYnc7MJ",
        "colab_type": "code",
        "colab": {}
      },
      "source": [
        "\n",
        "print(\" bbox: \", end=\"\")\n",
        "for index, member in enumerate(data[\"bbox\"]):\n",
        "    if index > 0: print(\", \", end=\"\")\n",
        "    print(member, end=\"\")\n",
        "  \n",
        "#print(\"\\n\\n [앨범 목록]\")\n",
        "#for album, title in data[\"albums\"].items():\n",
        "#    print(\"  * %s: %s\" % (album, title) )"
      ],
      "execution_count": 0,
      "outputs": []
    }
  ]
}