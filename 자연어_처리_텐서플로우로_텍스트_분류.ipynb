{
  "nbformat": 4,
  "nbformat_minor": 0,
  "metadata": {
    "colab": {
      "name": "자연어 처리 - 텐서플로우로 텍스트 분류",
      "provenance": [],
      "collapsed_sections": [
        "3j7XpKstnofK",
        "uWRfQZYBcOZs"
      ],
      "toc_visible": true,
      "include_colab_link": true
    },
    "kernelspec": {
      "name": "python3",
      "display_name": "Python 3"
    },
    "accelerator": "GPU"
  },
  "cells": [
    {
      "cell_type": "markdown",
      "metadata": {
        "id": "view-in-github",
        "colab_type": "text"
      },
      "source": [
        "<a href=\"https://colab.research.google.com/github/moey920/Object-Detection/blob/master/%EC%9E%90%EC%97%B0%EC%96%B4_%EC%B2%98%EB%A6%AC_%ED%85%90%EC%84%9C%ED%94%8C%EB%A1%9C%EC%9A%B0%EB%A1%9C_%ED%85%8D%EC%8A%A4%ED%8A%B8_%EB%B6%84%EB%A5%98.ipynb\" target=\"_parent\"><img src=\"https://colab.research.google.com/assets/colab-badge.svg\" alt=\"Open In Colab\"/></a>"
      ]
    },
    {
      "cell_type": "markdown",
      "metadata": {
        "id": "ngD1Q34lCa5C",
        "colab_type": "text"
      },
      "source": [
        "# 한글 텍스트 분류 튜토리얼\n",
        "\n",
        "## 소개\n",
        "\n",
        "이번 시간에는 한글 텍스트를 가지고 감정분류를 하는 딥러닝 모델을 구현해보도록 하겠습니다.\n",
        "\n",
        "이 튜토리얼은 텐서플로 Estimator와 영수증 데이터셋을 활용하여 딥러닝 모델로 어떻게 카테고리를 분류 하는지 봅니다. \n",
        "\n",
        "튜토리얼 시작에 앞서서 어떻게 진행하는지에 대해서 아래 목차를 확인하고 가도록 합시다.\n",
        "\n",
        "1. 데이터 불러오기 - 영수증 데이터셋을 어떻게 불러와 다루는지 보도록 합니다.\n",
        "\n",
        "2. 데이터 분석\n",
        "\n",
        "  2.1 리뷰 길이 분포 - 전체 데이터 길이가 어떠한 분포로 되어있는지 확인해보도록 합니다.\n",
        "  \n",
        "  2.2 데이터 라벨 분포 - 데이터 학습 라벨 분포가 어떻게 되어있는지 확인해보도록 합니다.\n",
        "  \n",
        "  2.3 워드클라우드 - 데이터에 가장 빈번하게 등장하는 단어들이 어떤건지 확인해보도록 합니다.\n",
        "  \n",
        "  2.4 기타 - 그 외에 어떠한 데이터를 알아 볼 수 있는지 봅시다.\n",
        "  \n",
        "3. 전처리\n",
        "\n",
        "  3.1 형태소 분석 - 형태소 분석을 통해 한글 토크나이징을 어떻게 하는지 보도록 합니다. \n",
        "  \n",
        "  3.2 불용어 처리 - 어떤 단어를 불용어라 보는지 확인하고 어떻게 데이터에서 제거하는지 보도록 합니다.\n",
        "  \n",
        "  3.3 인덱싱 - 모델에 학습하기 위해 단어 사전을 어떻게 구성하는지 보고 텍스트를 어떻게 인덱싱하는지 보도록 합니다.\n",
        "  \n",
        "4. 모델 학습 - 모델링은 tf.Estimator를 통해 어떻게 데이터를 입력하고 모델 학습을 하는지 보도록 합니다.\n",
        "\n",
        "  4.1 데이터 입력 함수 - 모델 학습과 평가를 위해 어떻게 데이터를 구성하는지 알아보도록 합니다.\n",
        "  \n",
        "  4.2 모델 함수 - CNN 모델을 어떻게 만드는지 보고 이 모델로 어떻게 텍스트 분류기를 만드는지 보도록 합니다.\n",
        "  \n",
        "  4.3 학습 및 평가 - tf.Estimator를 가지고 어떻게 모델 학습과 평가를 하는지 보도록 합니다.\n",
        "  \n"
      ]
    },
    {
      "cell_type": "code",
      "metadata": {
        "id": "t4gNE48gJXwK",
        "colab_type": "code",
        "outputId": "cda7bd40-2efd-4ace-c4d4-658abdd95eed",
        "colab": {
          "base_uri": "https://localhost:8080/",
          "height": 593
        }
      },
      "source": [
        "!pip install konlpy"
      ],
      "execution_count": 1,
      "outputs": [
        {
          "output_type": "stream",
          "text": [
            "Collecting konlpy\n",
            "\u001b[?25l  Downloading https://files.pythonhosted.org/packages/85/0e/f385566fec837c0b83f216b2da65db9997b35dd675e107752005b7d392b1/konlpy-0.5.2-py2.py3-none-any.whl (19.4MB)\n",
            "\u001b[K     |████████████████████████████████| 19.4MB 157kB/s \n",
            "\u001b[?25hCollecting tweepy>=3.7.0\n",
            "  Downloading https://files.pythonhosted.org/packages/36/1b/2bd38043d22ade352fc3d3902cf30ce0e2f4bf285be3b304a2782a767aec/tweepy-3.8.0-py2.py3-none-any.whl\n",
            "Collecting beautifulsoup4==4.6.0\n",
            "\u001b[?25l  Downloading https://files.pythonhosted.org/packages/9e/d4/10f46e5cfac773e22707237bfcd51bbffeaf0a576b0a847ec7ab15bd7ace/beautifulsoup4-4.6.0-py3-none-any.whl (86kB)\n",
            "\u001b[K     |████████████████████████████████| 92kB 13.8MB/s \n",
            "\u001b[?25hCollecting colorama\n",
            "  Downloading https://files.pythonhosted.org/packages/c9/dc/45cdef1b4d119eb96316b3117e6d5708a08029992b2fee2c143c7a0a5cc5/colorama-0.4.3-py2.py3-none-any.whl\n",
            "Requirement already satisfied: lxml>=4.1.0 in /usr/local/lib/python3.6/dist-packages (from konlpy) (4.2.6)\n",
            "Requirement already satisfied: numpy>=1.6 in /usr/local/lib/python3.6/dist-packages (from konlpy) (1.17.5)\n",
            "Collecting JPype1>=0.7.0\n",
            "\u001b[?25l  Downloading https://files.pythonhosted.org/packages/d7/3c/1dbe5d6943b5c68e8df17c8b3a05db4725eadb5c7b7de437506aa3030701/JPype1-0.7.2-cp36-cp36m-manylinux1_x86_64.whl (2.4MB)\n",
            "\u001b[K     |████████████████████████████████| 2.4MB 47.2MB/s \n",
            "\u001b[?25hRequirement already satisfied: PySocks>=1.5.7 in /usr/local/lib/python3.6/dist-packages (from tweepy>=3.7.0->konlpy) (1.7.1)\n",
            "Requirement already satisfied: requests>=2.11.1 in /usr/local/lib/python3.6/dist-packages (from tweepy>=3.7.0->konlpy) (2.21.0)\n",
            "Requirement already satisfied: requests-oauthlib>=0.7.0 in /usr/local/lib/python3.6/dist-packages (from tweepy>=3.7.0->konlpy) (1.3.0)\n",
            "Requirement already satisfied: six>=1.10.0 in /usr/local/lib/python3.6/dist-packages (from tweepy>=3.7.0->konlpy) (1.12.0)\n",
            "Requirement already satisfied: certifi>=2017.4.17 in /usr/local/lib/python3.6/dist-packages (from requests>=2.11.1->tweepy>=3.7.0->konlpy) (2019.11.28)\n",
            "Requirement already satisfied: urllib3<1.25,>=1.21.1 in /usr/local/lib/python3.6/dist-packages (from requests>=2.11.1->tweepy>=3.7.0->konlpy) (1.24.3)\n",
            "Requirement already satisfied: chardet<3.1.0,>=3.0.2 in /usr/local/lib/python3.6/dist-packages (from requests>=2.11.1->tweepy>=3.7.0->konlpy) (3.0.4)\n",
            "Requirement already satisfied: idna<2.9,>=2.5 in /usr/local/lib/python3.6/dist-packages (from requests>=2.11.1->tweepy>=3.7.0->konlpy) (2.8)\n",
            "Requirement already satisfied: oauthlib>=3.0.0 in /usr/local/lib/python3.6/dist-packages (from requests-oauthlib>=0.7.0->tweepy>=3.7.0->konlpy) (3.1.0)\n",
            "Installing collected packages: tweepy, beautifulsoup4, colorama, JPype1, konlpy\n",
            "  Found existing installation: tweepy 3.6.0\n",
            "    Uninstalling tweepy-3.6.0:\n",
            "      Successfully uninstalled tweepy-3.6.0\n",
            "  Found existing installation: beautifulsoup4 4.6.3\n",
            "    Uninstalling beautifulsoup4-4.6.3:\n",
            "      Successfully uninstalled beautifulsoup4-4.6.3\n",
            "Successfully installed JPype1-0.7.2 beautifulsoup4-4.6.0 colorama-0.4.3 konlpy-0.5.2 tweepy-3.8.0\n"
          ],
          "name": "stdout"
        }
      ]
    },
    {
      "cell_type": "code",
      "metadata": {
        "id": "Rue1mwk_sAM2",
        "colab_type": "code",
        "outputId": "9dbc8c97-2588-4b89-f77a-ccb9d7a334b1",
        "colab": {
          "base_uri": "https://localhost:8080/",
          "height": 71
        }
      },
      "source": [
        "# 나눔고딕 설치\n",
        "!apt -qq -y install fonts-nanum > /dev/null\n",
        "# apt가 작동하지 않는데, 일단은 그냥 다음 코드로 진행하셔도 괜찮습니다.\n",
        "#!pip install fonts-nanum > /dev/null\n",
        "import matplotlib.font_manager as fm\n",
        "fontpath = '/usr/share/fonts/truetype/nanum/NanumBarunGothic.ttf'\n",
        "font = fm.FontProperties(fname=fontpath, size=9)"
      ],
      "execution_count": 2,
      "outputs": [
        {
          "output_type": "stream",
          "text": [
            "\n",
            "WARNING: apt does not have a stable CLI interface. Use with caution in scripts.\n",
            "\n"
          ],
          "name": "stdout"
        }
      ]
    },
    {
      "cell_type": "markdown",
      "metadata": {
        "id": "_RKkoq0LW0fV",
        "colab_type": "text"
      },
      "source": [
        "## 시작에 앞서...\n",
        "\n",
        "아마 튜토리얼을 처음 시작 하시는 분은 텐서플로우를 거의 다뤄보시지 않은 분들일 겁니다. \n",
        "\n",
        "여기서는 딥러닝 모델링을 위해 tf.data, tf.estimator 위주로 주로 다루게 되는데요.\n",
        "\n",
        "이와 관련해서 대략 tf.data와 tf.estimator가 어떤것인지 알 수 있는 실습 페이지를 두었습니다.\n",
        "\n",
        "아래 링크를 확인해주시고 각 모듈들이 어떻게 동작하는지를 이해해보았으면 좋겠습니다.\n",
        "\n",
        "- tf.data 링크: https://bit.ly/2Uuliqa \n",
        "\n",
        "- tf.estimator 링크: https://bit.ly/2sWmnLJ \n",
        "\n",
        "\n",
        "### Estimator 도식화\n",
        "![estimator](https://t1.daumcdn.net/cfile/tistory/9910C53359AF8CA334)"
      ]
    },
    {
      "cell_type": "markdown",
      "metadata": {
        "id": "IQoQoJ6CBPiJ",
        "colab_type": "text"
      },
      "source": [
        "## 라이브러리 불러오기\n",
        "\n",
        "여러분들이 텍스트 분류기를 만들기 위해서는 다음과 같은 라이브러리들이 필요합니다.\n",
        "\n",
        "- numpy: 벡터 연산 및 여러 수학 연산에서 많이 사용합니다.\n",
        "\n",
        "- pandas: raw 테이블 데이터를 입력받고 처리하는데 사용합니다.\n",
        "\n",
        "- matplotlib: 데이터 분석 시에 통계를 보는데 사용합니다.\n",
        "\n",
        "- wordcloud: 단어 분포를 보는데 사용합니다."
      ]
    },
    {
      "cell_type": "code",
      "metadata": {
        "id": "Z1t16WRnljEh",
        "colab_type": "code",
        "colab": {}
      },
      "source": [
        "import numpy as np \n",
        "import pandas as pd\n",
        "import os\n",
        "import matplotlib.pyplot as plt\n",
        "import seaborn as sns\n",
        "from wordcloud import WordCloud\n",
        "%matplotlib inline"
      ],
      "execution_count": 0,
      "outputs": []
    },
    {
      "cell_type": "markdown",
      "metadata": {
        "id": "hF4xMXBRSzkT",
        "colab_type": "text"
      },
      "source": [
        "## 데이터 불러오기\n",
        "\n",
        "판다스 라이브러리를 통해 텍스트 데이터를 불러오도록 합니다.\n",
        "\n",
        "(현재 텍스트 데이터는 깃헙에 저장된 csv 파일을 불러오는겁니다.)"
      ]
    },
    {
      "cell_type": "code",
      "metadata": {
        "id": "N9Wt9Mll70lc",
        "colab_type": "code",
        "outputId": "158f4598-5781-484a-acb0-350425205841",
        "colab": {
          "base_uri": "https://localhost:8080/",
          "height": 127
        }
      },
      "source": [
        "from google.colab import drive\n",
        "drive.mount('/content/drive')"
      ],
      "execution_count": 4,
      "outputs": [
        {
          "output_type": "stream",
          "text": [
            "Go to this URL in a browser: https://accounts.google.com/o/oauth2/auth?client_id=947318989803-6bn6qk8qdgf4n4g3pfee6491hc0brc4i.apps.googleusercontent.com&redirect_uri=urn%3aietf%3awg%3aoauth%3a2.0%3aoob&response_type=code&scope=email%20https%3a%2f%2fwww.googleapis.com%2fauth%2fdocs.test%20https%3a%2f%2fwww.googleapis.com%2fauth%2fdrive%20https%3a%2f%2fwww.googleapis.com%2fauth%2fdrive.photos.readonly%20https%3a%2f%2fwww.googleapis.com%2fauth%2fpeopleapi.readonly\n",
            "\n",
            "Enter your authorization code:\n",
            "··········\n",
            "Mounted at /content/drive\n"
          ],
          "name": "stdout"
        }
      ]
    },
    {
      "cell_type": "code",
      "metadata": {
        "id": "Ou_lvRSnkwL8",
        "colab_type": "code",
        "colab": {}
      },
      "source": [
        "#path = '/content/drive/My Drive/text/dataset_utf8.csv'\n",
        "#with open(path, 'r', encoding='utf-8') as f:\n",
        "#    train_file_link  = f.readlines()\n",
        "train_file_link = '/content/drive/My Drive/text/dataset.txt'"
      ],
      "execution_count": 0,
      "outputs": []
    },
    {
      "cell_type": "markdown",
      "metadata": {
        "id": "s80r58sDTr-R",
        "colab_type": "text"
      },
      "source": [
        "불러온 데이터를 보면 id, document, label로 구분이 되어있습니다."
      ]
    },
    {
      "cell_type": "code",
      "metadata": {
        "id": "mUpNx7rRljHt",
        "colab_type": "code",
        "colab": {
          "base_uri": "https://localhost:8080/",
          "height": 359
        },
        "outputId": "5fdd58ae-692a-4d5d-cab3-7a5d775365a4"
      },
      "source": [
        "train_data = pd.read_csv(train_file_link, header = 0, delimiter = '\\t', quoting = 3)\n",
        "train_data.head(10)"
      ],
      "execution_count": 6,
      "outputs": [
        {
          "output_type": "execute_result",
          "data": {
            "text/html": [
              "<div>\n",
              "<style scoped>\n",
              "    .dataframe tbody tr th:only-of-type {\n",
              "        vertical-align: middle;\n",
              "    }\n",
              "\n",
              "    .dataframe tbody tr th {\n",
              "        vertical-align: top;\n",
              "    }\n",
              "\n",
              "    .dataframe thead th {\n",
              "        text-align: right;\n",
              "    }\n",
              "</style>\n",
              "<table border=\"1\" class=\"dataframe\">\n",
              "  <thead>\n",
              "    <tr style=\"text-align: right;\">\n",
              "      <th></th>\n",
              "      <th>id</th>\n",
              "      <th>document</th>\n",
              "      <th>label</th>\n",
              "    </tr>\n",
              "  </thead>\n",
              "  <tbody>\n",
              "    <tr>\n",
              "      <th>0</th>\n",
              "      <td>1</td>\n",
              "      <td>CJ올리브영( ) 정주신봉네거리점</td>\n",
              "      <td>1</td>\n",
              "    </tr>\n",
              "    <tr>\n",
              "      <th>1</th>\n",
              "      <td>2</td>\n",
              "      <td>성북도 청주시 흥덕구 사운로 303</td>\n",
              "      <td>2</td>\n",
              "    </tr>\n",
              "    <tr>\n",
              "      <th>2</th>\n",
              "      <td>3</td>\n",
              "      <td>6098101574 구장고 TEL : 043- 260 - 15</td>\n",
              "      <td>3</td>\n",
              "    </tr>\n",
              "    <tr>\n",
              "      <th>3</th>\n",
              "      <td>4</td>\n",
              "      <td>2020- 02 - 29 20 : 17 : 29 POS : 1001 -00081 M...</td>\n",
              "      <td>4</td>\n",
              "    </tr>\n",
              "    <tr>\n",
              "      <th>4</th>\n",
              "      <td>5</td>\n",
              "      <td>고객센터 : 1577 - 4887 www .eliveyoung . co . KI</td>\n",
              "      <td>0</td>\n",
              "    </tr>\n",
              "    <tr>\n",
              "      <th>5</th>\n",
              "      <td>6</td>\n",
              "      <td>교환/ 환불은 결제일로부터 15일(3월 15일) 내</td>\n",
              "      <td>0</td>\n",
              "    </tr>\n",
              "    <tr>\n",
              "      <th>6</th>\n",
              "      <td>7</td>\n",
              "      <td>판매가능한 정상품( 미개봉) 에 한해 결제했던</td>\n",
              "      <td>0</td>\n",
              "    </tr>\n",
              "    <tr>\n",
              "      <th>7</th>\n",
              "      <td>8</td>\n",
              "      <td>수단과 구매영수증 지참 후 매장 방문시 가능</td>\n",
              "      <td>0</td>\n",
              "    </tr>\n",
              "    <tr>\n",
              "      <th>8</th>\n",
              "      <td>9</td>\n",
              "      <td>* 단 환불/ 결제수단 변경은 구매매장에서만</td>\n",
              "      <td>0</td>\n",
              "    </tr>\n",
              "    <tr>\n",
              "      <th>9</th>\n",
              "      <td>10</td>\n",
              "      <td>가능.</td>\n",
              "      <td>0</td>\n",
              "    </tr>\n",
              "  </tbody>\n",
              "</table>\n",
              "</div>"
            ],
            "text/plain": [
              "   id                                           document  label\n",
              "0   1                                 CJ올리브영( ) 정주신봉네거리점      1\n",
              "1   2                                성북도 청주시 흥덕구 사운로 303      2\n",
              "2   3                 6098101574 구장고 TEL : 043- 260 - 15      3\n",
              "3   4  2020- 02 - 29 20 : 17 : 29 POS : 1001 -00081 M...      4\n",
              "4   5       고객센터 : 1577 - 4887 www .eliveyoung . co . KI      0\n",
              "5   6                       교환/ 환불은 결제일로부터 15일(3월 15일) 내      0\n",
              "6   7                          판매가능한 정상품( 미개봉) 에 한해 결제했던      0\n",
              "7   8                           수단과 구매영수증 지참 후 매장 방문시 가능      0\n",
              "8   9                           * 단 환불/ 결제수단 변경은 구매매장에서만      0\n",
              "9  10                                                가능.      0"
            ]
          },
          "metadata": {
            "tags": []
          },
          "execution_count": 6
        }
      ]
    },
    {
      "cell_type": "markdown",
      "metadata": {
        "id": "4SNH2oNZTm99",
        "colab_type": "text"
      },
      "source": [
        "## 데이터 분석\n",
        "\n",
        "불러온 텍스트 데이터를 이제 하나하나 분석을 해보며 이 데이터는 어떻게 구성이 되어있는지 알아가보도록 합시다."
      ]
    },
    {
      "cell_type": "markdown",
      "metadata": {
        "id": "CbLJ4YqpUJsG",
        "colab_type": "text"
      },
      "source": [
        "### 학습 데이터 갯수"
      ]
    },
    {
      "cell_type": "code",
      "metadata": {
        "id": "JV95w8itljKi",
        "colab_type": "code",
        "colab": {
          "base_uri": "https://localhost:8080/",
          "height": 35
        },
        "outputId": "1f853b87-4d99-48e6-ae7e-3149941c1fd7"
      },
      "source": [
        "print('전체 학습데이터의 개수: {}'.format(len(train_data)))"
      ],
      "execution_count": 7,
      "outputs": [
        {
          "output_type": "stream",
          "text": [
            "전체 학습데이터의 개수: 5059\n"
          ],
          "name": "stdout"
        }
      ]
    },
    {
      "cell_type": "markdown",
      "metadata": {
        "id": "LBcqIhmoUNVd",
        "colab_type": "text"
      },
      "source": [
        "### 텍스트 길이 분포\n",
        "\n",
        "텍스트 분류 모델링을 하는 경우 전체 학습 데이터 길이가 어떻게 되는지 아는게 중요할 때가 있습니다. \n",
        "\n",
        "여기서는 Character 단위 Word 단위 2가지로 나누어 분포를 확인해보고자 합니다."
      ]
    },
    {
      "cell_type": "code",
      "metadata": {
        "id": "b0GjniaxB99o",
        "colab_type": "code",
        "outputId": "e7a86e9e-325d-4ccc-fbc1-c541afad86e1",
        "colab": {
          "base_uri": "https://localhost:8080/",
          "height": 35
        }
      },
      "source": [
        "print('id' in train_data.columns)"
      ],
      "execution_count": 8,
      "outputs": [
        {
          "output_type": "stream",
          "text": [
            "True\n"
          ],
          "name": "stdout"
        }
      ]
    },
    {
      "cell_type": "markdown",
      "metadata": {
        "id": "501H0cKNVEI1",
        "colab_type": "text"
      },
      "source": [
        "#### Character 단위 텍스트 길이 분포"
      ]
    },
    {
      "cell_type": "code",
      "metadata": {
        "id": "6rZ9GMkZljNH",
        "colab_type": "code",
        "colab": {}
      },
      "source": [
        "train_lenght = train_data['document'].astype(str).apply(len)"
      ],
      "execution_count": 0,
      "outputs": []
    },
    {
      "cell_type": "code",
      "metadata": {
        "id": "VQ8fBBjmljPo",
        "colab_type": "code",
        "colab": {
          "base_uri": "https://localhost:8080/",
          "height": 368
        },
        "outputId": "d4c9cc0d-ecda-430c-bef2-3d69dcf17539"
      },
      "source": [
        "# 그래프에 대한 이미지 사이즈 선언\n",
        "# figsize: (가로, 세로) 형태의 튜플로 입력\n",
        "plt.figure(figsize=(12, 5))\n",
        "# 히스토그램 선언\n",
        "# bins: 히스토그램 값들에 대한 버켓 범위\n",
        "# range: x축 값의 범위\n",
        "# alpha: 그래프 색상 투명도\n",
        "# color: 그래프 색상\n",
        "# label: 그래프에 대한 라벨\n",
        "plt.hist(train_lenght, bins=200, alpha=0.5, color= 'r', label='word')\n",
        "# plt.yscale('log', nonposy='clip')\n",
        "# 그래프 제목\n",
        "plt.title('Text length Distribution')\n",
        "# 그래프 x 축 라벨\n",
        "plt.xlabel('Length of sentense')\n",
        "# 그래프 y 축 라벨\n",
        "plt.ylabel('Number of sentense')"
      ],
      "execution_count": 10,
      "outputs": [
        {
          "output_type": "execute_result",
          "data": {
            "text/plain": [
              "Text(0, 0.5, 'Number of sentense')"
            ]
          },
          "metadata": {
            "tags": []
          },
          "execution_count": 10
        },
        {
          "output_type": "display_data",
          "data": {
            "image/png": "[encoded data removed]",
            "text/plain": [
              "<Figure size 864x360 with 1 Axes>"
            ]
          },
          "metadata": {
            "tags": []
          }
        }
      ]
    },
    {
      "cell_type": "code",
      "metadata": {
        "id": "AcGWyFZJljR6",
        "colab_type": "code",
        "colab": {
          "base_uri": "https://localhost:8080/",
          "height": 143
        },
        "outputId": "481e2970-7bdb-459a-acb9-70d52cb4bd18"
      },
      "source": [
        "print('문장 길이 최대 값: {}'.format(np.max(train_lenght)))\n",
        "print('문징 길이 최소 값: {}'.format(np.min(train_lenght)))\n",
        "print('문장 길이 평균 값: {:.2f}'.format(np.mean(train_lenght)))\n",
        "print('문장 길이 표준편차: {:.2f}'.format(np.std(train_lenght)))\n",
        "print('문장 길이 중간 값: {}'.format(np.median(train_lenght)))\n",
        "# 사분위의 대한 경우는 0~100 스케일로 되어있음\n",
        "print('문장 길이 제 1 사분위: {}'.format(np.percentile(train_lenght, 25)))\n",
        "print('문장 길이 제 3 사분위: {}'.format(np.percentile(train_lenght, 75)))"
      ],
      "execution_count": 11,
      "outputs": [
        {
          "output_type": "stream",
          "text": [
            "문장 길이 최대 값: 121\n",
            "문징 길이 최소 값: 1\n",
            "문장 길이 평균 값: 19.41\n",
            "문장 길이 표준편차: 11.28\n",
            "문장 길이 중간 값: 19.0\n",
            "문장 길이 제 1 사분위: 12.0\n",
            "문장 길이 제 3 사분위: 25.0\n"
          ],
          "name": "stdout"
        }
      ]
    },
    {
      "cell_type": "markdown",
      "metadata": {
        "id": "IKvQ5JrTWQKk",
        "colab_type": "text"
      },
      "source": [
        "#### Word 단위 텍스트 길이 분포"
      ]
    },
    {
      "cell_type": "code",
      "metadata": {
        "id": "2EGtgvAeljYz",
        "colab_type": "code",
        "colab": {}
      },
      "source": [
        "train_word_counts = train_data['document'].astype(str).apply(lambda x:len(x.split(' ')))"
      ],
      "execution_count": 0,
      "outputs": []
    },
    {
      "cell_type": "code",
      "metadata": {
        "id": "_fMyi4qNljbB",
        "colab_type": "code",
        "colab": {
          "base_uri": "https://localhost:8080/",
          "height": 375
        },
        "outputId": "43208aa9-bc4d-407d-9b63-b9c38e787ab8"
      },
      "source": [
        "plt.figure(figsize=(12, 5))\n",
        "plt.hist(train_word_counts, bins=50, facecolor='r',label='train')\n",
        "plt.title('Log-Histogram of word count in review', fontsize=15)\n",
        "# plt.yscale('log', nonposy='clip')\n",
        "plt.legend()\n",
        "plt.xlabel('Number of words', fontsize=15)\n",
        "plt.ylabel('Number of sentense', fontsize=15)"
      ],
      "execution_count": 13,
      "outputs": [
        {
          "output_type": "execute_result",
          "data": {
            "text/plain": [
              "Text(0, 0.5, 'Number of sentense')"
            ]
          },
          "metadata": {
            "tags": []
          },
          "execution_count": 13
        },
        {
          "output_type": "display_data",
          "data": {
            "image/png": "[encoded data removed]",
            "text/plain": [
              "<Figure size 864x360 with 1 Axes>"
            ]
          },
          "metadata": {
            "tags": []
          }
        }
      ]
    },
    {
      "cell_type": "code",
      "metadata": {
        "id": "zc6G5cG7ljhd",
        "colab_type": "code",
        "colab": {
          "base_uri": "https://localhost:8080/",
          "height": 143
        },
        "outputId": "c5aa5cf2-1c1d-402b-8cc0-96affa6bcb28"
      },
      "source": [
        "print('문장 단어 개수 최대 값: {}'.format(np.max(train_word_counts)))\n",
        "print('문장 단어 개수 최소 값: {}'.format(np.min(train_word_counts)))\n",
        "print('문장 단어 개수 평균 값: {:.2f}'.format(np.mean(train_word_counts)))\n",
        "print('문장 단어 개수 표준편차: {:.2f}'.format(np.std(train_word_counts)))\n",
        "print('문장 단어 개수 중간 값: {}'.format(np.median(train_word_counts)))\n",
        "# 사분위의 대한 경우는 0~100 스케일로 되어있음\n",
        "print('문장 단어 개수 제 1 사분위: {}'.format(np.percentile(train_word_counts, 25)))\n",
        "print('문장 단어 개수 제 3 사분위: {}'.format(np.percentile(train_word_counts, 75)))"
      ],
      "execution_count": 14,
      "outputs": [
        {
          "output_type": "stream",
          "text": [
            "문장 단어 개수 최대 값: 40\n",
            "문장 단어 개수 최소 값: 1\n",
            "문장 단어 개수 평균 값: 5.12\n",
            "문장 단어 개수 표준편차: 3.38\n",
            "문장 단어 개수 중간 값: 5.0\n",
            "문장 단어 개수 제 1 사분위: 3.0\n",
            "문장 단어 개수 제 3 사분위: 7.0\n"
          ],
          "name": "stdout"
        }
      ]
    },
    {
      "cell_type": "markdown",
      "metadata": {
        "id": "DfQa9C57WgLU",
        "colab_type": "text"
      },
      "source": [
        "### 데이터 라벨 분포\n",
        "\n",
        "이 영수증 텍스트 데이터 라벨은 15 종류로 되어 있습니다.\n",
        "\n",
        "1. 브랜드명, 지점명\n",
        "2. 주소\n",
        "3. 사업자등록번호, 지점대표, 전화번호\n",
        "4. 구매일시\n",
        "5. 상품명\n",
        "6. 상품바코드, 단가, 수량, 금액\n",
        "7. 결제금액\n",
        "8. 카드금액\n",
        "9. 카드번호\n",
        "10. 카드사명\n",
        "11. 카드승인번호\n",
        "12. 영수증 바코드\n",
        "13. 결제방법\n",
        "14. 현금영수증 승인번호  \n",
        "0: 불필요 \n",
        "로 분류했습니다.\n",
        "\n",
        "\n",
        "각 데이터 라벨의 분포가 어떠한지 살펴봅시다."
      ]
    },
    {
      "cell_type": "code",
      "metadata": {
        "id": "BRl3JsOWljUW",
        "colab_type": "code",
        "colab": {
          "base_uri": "https://localhost:8080/",
          "height": 243
        },
        "outputId": "d01d6c1b-5cce-4496-8e7c-2b668de2ae7f"
      },
      "source": [
        "fig, axe = plt.subplots(ncols=1)\n",
        "fig.set_size_inches(6, 3)\n",
        "sns.countplot(train_data['label'])"
      ],
      "execution_count": 15,
      "outputs": [
        {
          "output_type": "execute_result",
          "data": {
            "text/plain": [
              "<matplotlib.axes._subplots.AxesSubplot at 0x7f8ec7314400>"
            ]
          },
          "metadata": {
            "tags": []
          },
          "execution_count": 15
        },
        {
          "output_type": "display_data",
          "data": {
            "image/png": "[encoded data removed]",
            "text/plain": [
              "<Figure size 432x216 with 1 Axes>"
            ]
          },
          "metadata": {
            "tags": []
          }
        }
      ]
    },
    {
      "cell_type": "code",
      "metadata": {
        "id": "TiwnXkFNljWp",
        "colab_type": "code",
        "colab": {
          "base_uri": "https://localhost:8080/",
          "height": 287
        },
        "outputId": "397b425d-b87b-47d6-aadb-1270b2eda6d2"
      },
      "source": [
        "print(\"불필요 개수: {}\".format(train_data['label'].value_counts()[0]))\n",
        "print(\"브랜드명, 지점명 개수: {}\".format(train_data['label'].value_counts()[1]))\n",
        "print(\"주소 개수: {}\".format(train_data['label'].value_counts()[2]))\n",
        "print(\"사업자등록번호, 지점대표, 전화번호 개수: {}\".format(train_data['label'].value_counts()[3]))\n",
        "print(\"구매일시 개수: {}\".format(train_data['label'].value_counts()[4]))\n",
        "print(\"상품명 개수: {}\".format(train_data['label'].value_counts()[5]))\n",
        "print(\"상품바코드, 단가, 수량, 금액 개수: {}\".format(train_data['label'].value_counts()[6]))\n",
        "print(\"결제금액 개수: {}\".format(train_data['label'].value_counts()[7]))\n",
        "print(\"카드금액 개수: {}\".format(train_data['label'].value_counts()[8]))\n",
        "print(\"카드번호 개수: {}\".format(train_data['label'].value_counts()[9]))\n",
        "print(\"카드사명 개수: {}\".format(train_data['label'].value_counts()[10]))\n",
        "print(\"카드승인번호 개수: {}\".format(train_data['label'].value_counts()[11]))\n",
        "print(\"영수증 바코드 개수: {}\".format(train_data['label'].value_counts()[12]))\n",
        "print(\"결제방법 개수: {}\".format(train_data['label'].value_counts()[13]))\n",
        "print(\"현금영수증 승인번호 개수: {}\".format(train_data['label'].value_counts()[14]))\n"
      ],
      "execution_count": 18,
      "outputs": [
        {
          "output_type": "stream",
          "text": [
            "불필요 개수: 3475\n",
            "브랜드명, 지점명 개수: 122\n",
            "주소 개수: 142\n",
            "사업자등록번호, 지점대표, 전화번호 개수: 108\n",
            "구매일시 개수: 107\n",
            "상품명 개수: 208\n",
            "상품바코드, 단가, 수량, 금액 개수: 207\n",
            "결제금액 개수: 99\n",
            "카드금액 개수: 89\n",
            "카드번호 개수: 89\n",
            "카드사명 개수: 97\n",
            "카드승인번호 개수: 91\n",
            "영수증 바코드 개수: 96\n",
            "결제방법 개수: 117\n",
            "현금영수증 승인번호 개수: 12\n"
          ],
          "name": "stdout"
        }
      ]
    },
    {
      "cell_type": "markdown",
      "metadata": {
        "id": "fd88o7UiaAHe",
        "colab_type": "text"
      },
      "source": [
        "### 워드클라우드\n",
        "\n",
        "과연 이 데이터에는 어떤 말들이 많이 쓰이고 있을까요?\n",
        "\n",
        "워드클라우드는 데이터에 어떤 단어들이 많이 분포되어있는지 바로 알 수 있게 해줍니다.\n",
        "\n",
        "워드클라우드를 통해서 어떤 단어가 가장 많이 쓰이는지 살펴보도록 합시다."
      ]
    },
    {
      "cell_type": "code",
      "metadata": {
        "id": "eiXd0ARCZiqK",
        "colab_type": "code",
        "colab": {
          "base_uri": "https://localhost:8080/",
          "height": 449
        },
        "outputId": "ae2ed3ba-76b3-41c9-b12a-c4b6a444e74b"
      },
      "source": [
        "train_review = [review for review in train_data['document'] if type(review) is str]\n",
        "wordcloud = WordCloud(font_path=fontpath).generate(' ' .join(train_review))\n",
        "plt.figure(figsize = (15 , 10))\n",
        "plt.imshow(wordcloud, interpolation='bilinear') \n",
        "plt.axis('off')\n",
        "plt.show()"
      ],
      "execution_count": 19,
      "outputs": [
        {
          "output_type": "display_data",
          "data": {
            "image/png": "[encoded data removed]",
            "text/plain": [
              "<Figure size 1080x720 with 1 Axes>"
            ]
          },
          "metadata": {
            "tags": []
          }
        }
      ]
    },
    {
      "cell_type": "markdown",
      "metadata": {
        "id": "uCPRPOpKXIi6",
        "colab_type": "text"
      },
      "source": [
        "### 기타\n",
        "\n",
        "텍스트 문장에는 종종 문장의 끝의 기호가 마침표냐 물음표냐 등에 따라 텍스트가 어떤 의미를 가졌는지 대략 짐작을 할 때도 있습니다.\n",
        "\n",
        "이 텍스트 데이터셋 같은 경우는 어떤지 한 번 보도록 합시다."
      ]
    },
    {
      "cell_type": "code",
      "metadata": {
        "id": "eNwfE-V0ljjx",
        "colab_type": "code",
        "colab": {
          "base_uri": "https://localhost:8080/",
          "height": 71
        },
        "outputId": "9bc36c0d-3426-425f-db7f-94029eb4f5e7"
      },
      "source": [
        "qmarks = np.mean(train_data['document'].astype(str).apply(lambda x: '?' in x)) # 물음표가 구두점으로 쓰임\n",
        "fullstop = np.mean(train_data['document'].astype(str).apply(lambda x: '.' in x)) # 마침표\n",
        "empty = np.mean(train_data['document'].astype(str).apply(lambda x: ' ' in x)) # 스페이스\n",
        "                  \n",
        "print('물음표가 있는 영수증: {:.2f}%'.format(qmarks * 100))\n",
        "print('마침표가 있는 영수증: {:.2f}%'.format(fullstop * 100))\n",
        "print('공백이 있는 영수증: {:.2f}%'.format(empty * 100))"
      ],
      "execution_count": 24,
      "outputs": [
        {
          "output_type": "stream",
          "text": [
            "물음표가 있는 영수증: 0.08%\n",
            "마침표가 있는 영수증: 7.75%\n",
            "공백이 있는 영수증: 89.42%\n"
          ],
          "name": "stdout"
        }
      ]
    },
    {
      "cell_type": "markdown",
      "metadata": {
        "id": "t6OTA0xiYzch",
        "colab_type": "text"
      },
      "source": [
        "## 데이터 전처리\n",
        "\n",
        "텍스트 분류기 모델 학습을 위해 데이터를 모델에 학습시킬 수 있도록 구성해주어야 합니다.\n",
        "\n",
        "여기서는 텍스트 필터링과 토크나이징, 불용어처리 등을 다루고, 인덱싱처리를 통해 모델에 들어 갈 입력 데이터를 구성합니다."
      ]
    },
    {
      "cell_type": "markdown",
      "metadata": {
        "id": "3j7XpKstnofK",
        "colab_type": "text"
      },
      "source": [
        "### 잠깐! 용어 정리\n",
        "\n",
        "- 배치(batch): 모델 학습에 한 번에 입력할 데이터셋\n",
        "\n",
        "- 에폭(epoch): 모델 학습시 전체 데이터를 학습한 횟 수\n",
        "\n",
        "- 스텝(step): (모델 학습의 경우) 하나의 배치를 학습한 횟 수\n",
        "\n",
        "- 토큰(token): (여기서는) 문장 또는 문단의 기본 구성 단위 (예를 들어 단위, 형태소)\n",
        "\n",
        "- 토크나이징(tokenizing): 문단 또는 문장 문자열을 하나의 토큰 단위로 쪼개는 작업\n",
        "\n",
        "- 인덱싱(indexing): 토큰 문자열을 숫자(인덱스)로 변환하여 표현하는 작업\n",
        "\n",
        "- 사전(vocabulary): 토큰 문자열과 인덱스의 관계를 정의해둔 셋\n",
        "\n",
        "- n-그램(n-gram): 입력한 문자열을 N개의 기준 단위로 절단하는 방법"
      ]
    },
    {
      "cell_type": "markdown",
      "metadata": {
        "id": "YAVd5yj5GHoV",
        "colab_type": "text"
      },
      "source": [
        "### 전처리를 위한 라이브러리\n",
        "\n",
        "- konlpy: 형태소 단위로 토크나이징을 하기 위해 필요한 라이브러리 입니다.\n",
        "- tensorflow.python.keras.preprocessing: 단어사전을 만들고 인덱싱을 위해 필요한 모듈입니다.\n",
        "- tqdm: Progress Bar 라이브러리 입니다."
      ]
    },
    {
      "cell_type": "code",
      "metadata": {
        "id": "8Pdxw4YUljmK",
        "colab_type": "code",
        "colab": {
          "base_uri": "https://localhost:8080/",
          "height": 64
        },
        "outputId": "54506ae3-f912-42be-c06a-20bb83ab4f76"
      },
      "source": [
        "import re\n",
        "import json\n",
        "from konlpy.tag import Okt\n",
        "from tensorflow.python.keras.preprocessing.sequence import pad_sequences\n",
        "from tensorflow.python.keras.preprocessing.text import Tokenizer\n",
        "\n",
        "from tqdm import tqdm"
      ],
      "execution_count": 25,
      "outputs": [
        {
          "output_type": "display_data",
          "data": {
            "text/html": [
              "<p style=\"color: red;\">\n",
              "The default version of TensorFlow in Colab will soon switch to TensorFlow 2.x.<br>\n",
              "We recommend you <a href=\"https://www.tensorflow.org/guide/migrate\" target=\"_blank\">upgrade</a> now \n",
              "or ensure your notebook will continue to use TensorFlow 1.x via the <code>%tensorflow_version 1.x</code> magic:\n",
              "<a href=\"https://colab.research.google.com/notebooks/tensorflow_version.ipynb\" target=\"_blank\">more info</a>.</p>\n"
            ],
            "text/plain": [
              "<IPython.core.display.HTML object>"
            ]
          },
          "metadata": {
            "tags": []
          }
        }
      ]
    },
    {
      "cell_type": "code",
      "metadata": {
        "id": "f8JPM2LfKjfe",
        "colab_type": "code",
        "colab": {
          "base_uri": "https://localhost:8080/",
          "height": 359
        },
        "outputId": "b1e4054e-744c-426e-8ddd-f93c4b5eccae"
      },
      "source": [
        "train_data.head(10)"
      ],
      "execution_count": 26,
      "outputs": [
        {
          "output_type": "execute_result",
          "data": {
            "text/html": [
              "<div>\n",
              "<style scoped>\n",
              "    .dataframe tbody tr th:only-of-type {\n",
              "        vertical-align: middle;\n",
              "    }\n",
              "\n",
              "    .dataframe tbody tr th {\n",
              "        vertical-align: top;\n",
              "    }\n",
              "\n",
              "    .dataframe thead th {\n",
              "        text-align: right;\n",
              "    }\n",
              "</style>\n",
              "<table border=\"1\" class=\"dataframe\">\n",
              "  <thead>\n",
              "    <tr style=\"text-align: right;\">\n",
              "      <th></th>\n",
              "      <th>id</th>\n",
              "      <th>document</th>\n",
              "      <th>label</th>\n",
              "    </tr>\n",
              "  </thead>\n",
              "  <tbody>\n",
              "    <tr>\n",
              "      <th>0</th>\n",
              "      <td>1</td>\n",
              "      <td>CJ올리브영( ) 정주신봉네거리점</td>\n",
              "      <td>1</td>\n",
              "    </tr>\n",
              "    <tr>\n",
              "      <th>1</th>\n",
              "      <td>2</td>\n",
              "      <td>성북도 청주시 흥덕구 사운로 303</td>\n",
              "      <td>2</td>\n",
              "    </tr>\n",
              "    <tr>\n",
              "      <th>2</th>\n",
              "      <td>3</td>\n",
              "      <td>6098101574 구장고 TEL : 043- 260 - 15</td>\n",
              "      <td>3</td>\n",
              "    </tr>\n",
              "    <tr>\n",
              "      <th>3</th>\n",
              "      <td>4</td>\n",
              "      <td>2020- 02 - 29 20 : 17 : 29 POS : 1001 -00081 M...</td>\n",
              "      <td>4</td>\n",
              "    </tr>\n",
              "    <tr>\n",
              "      <th>4</th>\n",
              "      <td>5</td>\n",
              "      <td>고객센터 : 1577 - 4887 www .eliveyoung . co . KI</td>\n",
              "      <td>0</td>\n",
              "    </tr>\n",
              "    <tr>\n",
              "      <th>5</th>\n",
              "      <td>6</td>\n",
              "      <td>교환/ 환불은 결제일로부터 15일(3월 15일) 내</td>\n",
              "      <td>0</td>\n",
              "    </tr>\n",
              "    <tr>\n",
              "      <th>6</th>\n",
              "      <td>7</td>\n",
              "      <td>판매가능한 정상품( 미개봉) 에 한해 결제했던</td>\n",
              "      <td>0</td>\n",
              "    </tr>\n",
              "    <tr>\n",
              "      <th>7</th>\n",
              "      <td>8</td>\n",
              "      <td>수단과 구매영수증 지참 후 매장 방문시 가능</td>\n",
              "      <td>0</td>\n",
              "    </tr>\n",
              "    <tr>\n",
              "      <th>8</th>\n",
              "      <td>9</td>\n",
              "      <td>* 단 환불/ 결제수단 변경은 구매매장에서만</td>\n",
              "      <td>0</td>\n",
              "    </tr>\n",
              "    <tr>\n",
              "      <th>9</th>\n",
              "      <td>10</td>\n",
              "      <td>가능.</td>\n",
              "      <td>0</td>\n",
              "    </tr>\n",
              "  </tbody>\n",
              "</table>\n",
              "</div>"
            ],
            "text/plain": [
              "   id                                           document  label\n",
              "0   1                                 CJ올리브영( ) 정주신봉네거리점      1\n",
              "1   2                                성북도 청주시 흥덕구 사운로 303      2\n",
              "2   3                 6098101574 구장고 TEL : 043- 260 - 15      3\n",
              "3   4  2020- 02 - 29 20 : 17 : 29 POS : 1001 -00081 M...      4\n",
              "4   5       고객센터 : 1577 - 4887 www .eliveyoung . co . KI      0\n",
              "5   6                       교환/ 환불은 결제일로부터 15일(3월 15일) 내      0\n",
              "6   7                          판매가능한 정상품( 미개봉) 에 한해 결제했던      0\n",
              "7   8                           수단과 구매영수증 지참 후 매장 방문시 가능      0\n",
              "8   9                           * 단 환불/ 결제수단 변경은 구매매장에서만      0\n",
              "9  10                                                가능.      0"
            ]
          },
          "metadata": {
            "tags": []
          },
          "execution_count": 26
        }
      ]
    },
    {
      "cell_type": "markdown",
      "metadata": {
        "id": "xsQsnX2qaIed",
        "colab_type": "text"
      },
      "source": [
        "### RegEx(정규표현식)를 활용한 텍스트 필터링\n",
        "\n",
        "모델에서 다뤄야 할 단어가 너무 많아도 문제가 되는 경우가 있습니다.\n",
        "\n",
        "이를 제어하기 위해 한글 데이터만을 받도록 regex를 통해 처리합니다.\n",
        "\n",
        "* 영수증은 다뤄야 할 데이터에 영어가 포함되어 있는 경우도 있기 때문에 이 과정은 넘어가도록 하겠습니다."
      ]
    },
    {
      "cell_type": "code",
      "metadata": {
        "id": "fkRAHn3fJ6UC",
        "colab_type": "code",
        "colab": {
          "base_uri": "https://localhost:8080/",
          "height": 35
        },
        "outputId": "5529bcd2-bb98-4638-d021-ac27a7efe96f"
      },
      "source": [
        "review_text = re.sub(\"[^가-힣ㄱ-ㅎㅏ-ㅣ\\\\s]\", \"\", train_data['document'][0]) \n",
        "print(review_text)"
      ],
      "execution_count": 28,
      "outputs": [
        {
          "output_type": "stream",
          "text": [
            "올리브영  정주신봉네거리점\n"
          ],
          "name": "stdout"
        }
      ]
    },
    {
      "cell_type": "markdown",
      "metadata": {
        "id": "CDp85Q-WaPv5",
        "colab_type": "text"
      },
      "source": [
        "### KoNLPy를 활용한 토크나이징\n",
        "\n",
        "한글은 문장에서 단어들로 정의하여 분리하는게 쉽지 않습니다.\n",
        "\n",
        "공백단위로 쪼개어 단어로 분리할 수 있기도 하지만 여기서는 형태소 분석기를 활용하여 단어로 분리해보도록 하겠습니다.\n",
        "\n",
        "KoNLPy를 활용하여 토크나이징 하는 방법을 알아봅시다."
      ]
    },
    {
      "cell_type": "code",
      "metadata": {
        "id": "V3IucC4MJ6ea",
        "colab_type": "code",
        "colab": {
          "base_uri": "https://localhost:8080/",
          "height": 35
        },
        "outputId": "c92397af-c3f9-47e2-f3ca-59b179c49a88"
      },
      "source": [
        "okt=Okt()\n",
        "review_text = okt.morphs(review_text, stem=True)\n",
        "print(review_text)"
      ],
      "execution_count": 29,
      "outputs": [
        {
          "output_type": "stream",
          "text": [
            "['올리브영', '정주', '신봉', '네거리', '점']\n"
          ],
          "name": "stdout"
        }
      ]
    },
    {
      "cell_type": "markdown",
      "metadata": {
        "id": "BQzV6g9taUBn",
        "colab_type": "text"
      },
      "source": [
        "### 불용어 사전을 활용한 텍스트 필터링"
      ]
    },
    {
      "cell_type": "code",
      "metadata": {
        "id": "_0gdS6sIJ6l1",
        "colab_type": "code",
        "colab": {
          "base_uri": "https://localhost:8080/",
          "height": 35
        },
        "outputId": "cb73919f-d6d5-4c0b-8c29-a638aa5ab22f"
      },
      "source": [
        "stop_words = set(['은', '는', '이', '가', '하', '아', '것', '들','의', '있', '되', '수', '보', '주', '등', '한'])\n",
        "clean_review = [token for token in review_text if not token in stop_words]\n",
        "print(clean_review)"
      ],
      "execution_count": 30,
      "outputs": [
        {
          "output_type": "stream",
          "text": [
            "['올리브영', '정주', '신봉', '네거리', '점']\n"
          ],
          "name": "stdout"
        }
      ]
    },
    {
      "cell_type": "markdown",
      "metadata": {
        "id": "-nNauczPafDd",
        "colab_type": "text"
      },
      "source": [
        "### 위 세 과정을 세트로 하면..."
      ]
    },
    {
      "cell_type": "code",
      "metadata": {
        "id": "GqmzD-yJJ6t4",
        "colab_type": "code",
        "colab": {}
      },
      "source": [
        "def preprocessing(review, okt, remove_stopwords = False, stop_words = []):\n",
        "    # 함수의 인자는 다음과 같다.\n",
        "    # review : 전처리할 텍스트\n",
        "    # okt : okt 객체를 반복적으로 생성하지 않고 미리 생성후 인자로 받는다.\n",
        "    # remove_stopword : 불용어를 제거할지 선택 기본값은 False\n",
        "    # stop_word : 불용어 사전은 사용자가 직접 입력해야함 기본값은 비어있는 리스트\n",
        "    \n",
        "    # 1. 한글 및 공백을 제외한 문자 모두 제거.\n",
        "    review_text = re.sub(\"[^가-힣ㄱ-ㅎㅏ-ㅣ\\\\s]\", \"\", review)\n",
        "    \n",
        "    # 2. okt 객체를 활용해서 형태소 단위로 나눈다.\n",
        "    word_review = okt.morphs(review_text, stem=True)\n",
        "    \n",
        "    if remove_stopwords:\n",
        "        \n",
        "        # 불용어 제거(선택적)\n",
        "        word_review = [token for token in word_review if not token in stop_words]\n",
        "        \n",
        "   \n",
        "    return word_review"
      ],
      "execution_count": 0,
      "outputs": []
    },
    {
      "cell_type": "code",
      "metadata": {
        "id": "ZV74mUyLKtPS",
        "colab_type": "code",
        "colab": {
          "base_uri": "https://localhost:8080/",
          "height": 35
        },
        "outputId": "131fdda0-4316-4cf5-ac9e-070e0bf1832b"
      },
      "source": [
        "stop_words = [ '은', '는', '이', '가', '하', '아', '것', '들','의', '있', '되', '수', '보', '주', '등', '한']\n",
        "okt = Okt()\n",
        "clean_train_review = []\n",
        "\n",
        "for review in tqdm(train_data['document']):\n",
        "    # 비어있는 데이터에서 멈추지 않도록 string인 경우만 진행\n",
        "    if type(review) == str:\n",
        "        clean_train_review.append(preprocessing(review, okt, remove_stopwords = True, stop_words=stop_words))\n",
        "    else:\n",
        "        clean_train_review.append([])  #string이 아니면 비어있는 값 추가"
      ],
      "execution_count": 32,
      "outputs": [
        {
          "output_type": "stream",
          "text": [
            "100%|██████████| 5059/5059 [00:06<00:00, 785.36it/s] \n"
          ],
          "name": "stderr"
        }
      ]
    },
    {
      "cell_type": "markdown",
      "metadata": {
        "id": "TxLjeLVGandD",
        "colab_type": "text"
      },
      "source": [
        "### 단어 사전 생성 및 인덱싱\n",
        "\n",
        "이제 텍스트 데이터를 딥러닝 모델에 입력할 수 있도록 만들어 봅시다.\n",
        "\n",
        "여기서는 텐서플로의 Tokenizer를 통해 단어 인덱싱 작업을 합니다."
      ]
    },
    {
      "cell_type": "code",
      "metadata": {
        "id": "YiGbtlcMMdqv",
        "colab_type": "code",
        "colab": {}
      },
      "source": [
        "tokenizer = Tokenizer()\n",
        "tokenizer.fit_on_texts(clean_train_review)\n",
        "train_sequences = tokenizer.texts_to_sequences(clean_train_review)\n",
        "train_labels = np.array(train_data['label']) # 학습 데이터의 라벨"
      ],
      "execution_count": 0,
      "outputs": []
    },
    {
      "cell_type": "markdown",
      "metadata": {
        "id": "uIHdxvRjasz0",
        "colab_type": "text"
      },
      "source": [
        "### 패딩 작업\n",
        "\n",
        "여러분이 만약에 모델학습을 하게된다면 학습데이터를 한 문장씩 입력하여 학습하지 않습니다. \n",
        "여러 문장을 한번에 묶어서 모델에 입력하게 되는데 이 입력하는 데이터 입력 셋 단위를 '배치'라 합니다.\n",
        "\n",
        "여러 문장 데이터를 하나의 배치로 구성하게 되면 각 문장의 길이가 각각 다르게 되어 있는걸 확인 하실 수 있습니다.\n",
        "하지만, 각 문장 입력 데이터 길이가 다르다면 모델 연산을 하는데 문제가 생깁니다. \n",
        "왜냐하면 모델은 입력 사이즈가 고정되어 연산되는 걸 선호하기 때문에 그렇습니다.\n",
        "\n",
        "이러한 문제 때문에 가급적 고정된 문장 길이를 정해두고 입력 문장의 길이를 맞추는 것이 가장 좋습니다.\n",
        "문장이 긴 경우에는 고정된 문장 길이만큼 자르면 되지만 짧은 경우에는 그렇지 않습니다.\n",
        "패딩 작업은 이러한 짧은 문장에 대해서 '<PAD\\>'와 같은 토큰을 길이를 맞추는 작업입니다.\n",
        "\n",
        "여기서는 간단하게 pad_sequences 함수가 고정된 길이 만큼의 각 문장 데이터 길이를 맞춰줍니다.\n",
        "\n",
        "* 위에서 문장 길이를 확인해봤듯이 최대 길이는 121, 평균 길이는 19였습니다. 영수증의 한 문장이 중간에서 짤리지 않도록 여유롭게 60으로 설정해주었습니다.\n",
        "\n"
      ]
    },
    {
      "cell_type": "code",
      "metadata": {
        "id": "QgY0yGxXMmZr",
        "colab_type": "code",
        "colab": {}
      },
      "source": [
        "MAX_SEQUENCE_LENGTH = 60 # 문장 최대 길이\n",
        "\n",
        "train_inputs = pad_sequences(train_sequences, maxlen=MAX_SEQUENCE_LENGTH, padding='post') # 학습 데이터를 벡터화"
      ],
      "execution_count": 0,
      "outputs": []
    },
    {
      "cell_type": "markdown",
      "metadata": {
        "id": "gVh4zEQKcI0J",
        "colab_type": "text"
      },
      "source": [
        "## 모델 학습을 위한 준비"
      ]
    },
    {
      "cell_type": "markdown",
      "metadata": {
        "id": "sKLXPe_5HHxv",
        "colab_type": "text"
      },
      "source": [
        "### 모델링을 위한 라이브러리\n",
        "\n",
        "- tensorflow: 딥러닝 모델링을 위한 라이브러리\n",
        "- sklearn.model_selection.train_test_split: 데이터를 학습용과 평가용으로 나누기 위한 함수"
      ]
    },
    {
      "cell_type": "code",
      "metadata": {
        "id": "mqRKrJpdN7U3",
        "colab_type": "code",
        "colab": {
          "base_uri": "https://localhost:8080/",
          "height": 35
        },
        "outputId": "2bf130a8-d318-4b99-9ba5-3dbbd869368c"
      },
      "source": [
        "import os\n",
        "import tensorflow as tf\n",
        "from sklearn.model_selection import train_test_split\n",
        "\n",
        "tf.VERSION"
      ],
      "execution_count": 35,
      "outputs": [
        {
          "output_type": "execute_result",
          "data": {
            "text/plain": [
              "'1.15.0'"
            ]
          },
          "metadata": {
            "tags": []
          },
          "execution_count": 35
        }
      ]
    },
    {
      "cell_type": "code",
      "metadata": {
        "id": "kkzxWTKlN7aM",
        "colab_type": "code",
        "colab": {}
      },
      "source": [
        "input_data = train_inputs\n",
        "label_data = train_labels\n",
        "word_vocab = tokenizer.word_index"
      ],
      "execution_count": 0,
      "outputs": []
    },
    {
      "cell_type": "markdown",
      "metadata": {
        "id": "nmpzmV3GbdWW",
        "colab_type": "text"
      },
      "source": [
        "### 하이퍼파라메터 설정\n",
        "\n",
        "아래 상수들은 모델에 필요한 하이퍼파라메터 값들입니다.\n",
        "\n",
        "하이퍼파라메터는 다음과 같이 구성되어 있습니다.\n",
        "\n",
        "- TEST_SPLIT : 전체 데이터 중 얼마나 평가 데이터로 활용할 지 정하는 상수(0~1)\n",
        "\n",
        "- RNG_SEED : 데이터 분리를 하는데 랜덤 생성 시드 번호를 고정해두는 상수\n",
        "\n",
        "- VOCAB_SIZE : 단어 임베딩 총 단어수에 대한 상수\n",
        "\n",
        "- EMB_SIZE : 단어 임베딩 및 CNN 네트워크 출력 임베딩 차원에 대한 상수\n",
        "\n",
        "- BATCH_SIZE : 학습 시 모델에 한 번 입력할 데이터 양, 배치 사이즈 상수\n",
        "\n",
        "- NUM_EPOCHS: 전체 데이터를 몇 번 학습 시킬 것인지 정하는(에포크)) 상수"
      ]
    },
    {
      "cell_type": "code",
      "metadata": {
        "id": "oNif1WCXN7el",
        "colab_type": "code",
        "colab": {}
      },
      "source": [
        "TEST_SPLIT = 0.1\n",
        "RNG_SEED = 13371447\n",
        "VOCAB_SIZE = len(word_vocab) + 1\n",
        "EMB_SIZE = 128\n",
        "BATCH_SIZE = 16\n",
        "NUM_EPOCHS = 1"
      ],
      "execution_count": 0,
      "outputs": []
    },
    {
      "cell_type": "markdown",
      "metadata": {
        "id": "F3KXtyXEPzKY",
        "colab_type": "text"
      },
      "source": [
        "### 학습 및 평가 데이터 분리\n",
        "\n",
        "데이터를 학습과 평가 데이터로 구분해줍니다.\n",
        "\n",
        "여기서는 10%의 데이터만 평가 데이터로 사용합니다."
      ]
    },
    {
      "cell_type": "code",
      "metadata": {
        "id": "gwrA1cRTP0Ft",
        "colab_type": "code",
        "colab": {}
      },
      "source": [
        "input_train, input_eval, label_train, label_eval = train_test_split(input_data, label_data, test_size=TEST_SPLIT, random_state=RNG_SEED)"
      ],
      "execution_count": 0,
      "outputs": []
    },
    {
      "cell_type": "markdown",
      "metadata": {
        "id": "Z6VjFTfhbqAh",
        "colab_type": "text"
      },
      "source": [
        "### 데이터 입력 함수\n",
        "\n",
        "데이터를 모델에 입력할 준비를 해봅시다.                                                                                                                   \n",
        "\n",
        "tf.estimator를 활용하여 모델링을 하기 위해선 데이터 입력 함수를 선언해줘야 합니다.\n",
        "\n",
        "데이터 입력 함수 내부는 전부 tf.data.Datset으로 다루어져 있습니다.\n",
        "\n",
        "앞에서 tf.data를 이미 보셨다면 구현 내용은 쉽게 이해하실 수 있을겁니다."
      ]
    },
    {
      "cell_type": "code",
      "metadata": {
        "id": "xk6yk1TwN7oh",
        "colab_type": "code",
        "colab": {}
      },
      "source": [
        "def mapping_fn(X, Y):\n",
        "    input, label = {'x': X}, Y\n",
        "    return input, label\n",
        "\n",
        "def train_input_fn():\n",
        "    dataset = tf.data.Dataset.from_tensor_slices((input_train, label_train))\n",
        "    dataset = dataset.shuffle(buffer_size=len(input_train))\n",
        "    dataset = dataset.batch(BATCH_SIZE)\n",
        "    dataset = dataset.map(mapping_fn)\n",
        "    dataset = dataset.repeat(count=NUM_EPOCHS)\n",
        "    iterator = dataset.make_one_shot_iterator()\n",
        "    \n",
        "    return iterator.get_next()\n",
        "\n",
        "def eval_input_fn():\n",
        "    dataset = tf.data.Dataset.from_tensor_slices((input_eval, label_eval))\n",
        "    dataset = dataset.batch(128)\n",
        "    dataset = dataset.map(mapping_fn)\n",
        "    iterator = dataset.make_one_shot_iterator()\n",
        "    \n",
        "    return iterator.get_next()"
      ],
      "execution_count": 0,
      "outputs": []
    },
    {
      "cell_type": "markdown",
      "metadata": {
        "id": "nlNy-nOYMxJ7",
        "colab_type": "text"
      },
      "source": [
        "## 모델 학습\n",
        "\n",
        "이제 모델링을 직접 해보도록 하겠습니다.\n",
        "\n",
        "두 개의 모델을 소개하는데 첫 번째 모델은 Convolutional Neural Network를 활용한 분류 모델이고 \n",
        "\n",
        "두 번째 모델은 Recurrent Neural Network를 활용한 분류 모델입니다.\n",
        "\n",
        "(참고로 모델은 실제 논문에 나온 모델을 간소화해둔 모델입니다.)\n",
        "\n",
        "모델을 간단하게 이해하고 본격적으로 모델 학습을 해보도록 합니다."
      ]
    },
    {
      "cell_type": "markdown",
      "metadata": {
        "id": "uWRfQZYBcOZs",
        "colab_type": "text"
      },
      "source": [
        "### Convolutional Neural Network (CNN) 모델\n",
        "\n",
        "![cnn_model](http://www.wildml.com/wp-content/uploads/2015/11/Screen-Shot-2015-11-06-at-8.03.47-AM.png)"
      ]
    },
    {
      "cell_type": "markdown",
      "metadata": {
        "id": "oRcpq9W_btK6",
        "colab_type": "text"
      },
      "source": [
        "### 모델 함수\n",
        "\n",
        "이제 tf.estimator에 등록할 모델 함수를 구현해 봅시다.\n",
        "\n",
        "여기서는 CNN 분류 모델을 간소하게 만든 모델입니다.\n",
        "\n",
        "처음 하시는 분은 CNN 분류를 텐서플로우로 어떻게 구현하는지 보시기 바랍니다.\n",
        "\n",
        "이미 다뤄보신 분이라면 어떻게 하면 보다 성능이 좋아질 수 있을지 고민해보시면 좋을 것 같습니다."
      ]
    },
    {
      "cell_type": "code",
      "metadata": {
        "id": "FPGsJnDmN7tp",
        "colab_type": "code",
        "colab": {}
      },
      "source": [
        "def cnn_model_fn(features, labels, mode, params):\n",
        "    TRAIN = mode == tf.estimator.ModeKeys.TRAIN\n",
        "    EVAL = mode == tf.estimator.ModeKeys.EVAL\n",
        "    PREDICT = mode == tf.estimator.ModeKeys.PREDICT\n",
        "\n",
        "    embedding_layer = tf.keras.layers.Embedding(\n",
        "                    VOCAB_SIZE,\n",
        "                    EMB_SIZE)(features['x'])\n",
        "\n",
        "    dropout_emb = tf.keras.layers.Dropout(rate = 0.2)(embedding_layer)\n",
        "    \n",
        "    conv = tf.keras.layers.Conv1D(filters=32, kernel_size=3, padding='same', \n",
        "                                  activation=tf.nn.relu)(dropout_emb)\n",
        "    \n",
        "  \n",
        "    pool = tf.keras.layers.GlobalMaxPool1D()(conv)\n",
        "\n",
        "    hidden = tf.keras.layers.Dense(units=250, activation=tf.nn.relu)(pool)   \n",
        "\n",
        "\n",
        "    dropout_hidden = tf.keras.layers.Dropout(rate=0.2)(hidden, training = TRAIN)\n",
        "    logits = tf.keras.layers.Dense(units=1)(dropout_hidden)\n",
        "\n",
        "    if labels is not None:\n",
        "        labels = tf.reshape(labels, [-1, 1])\n",
        "        \n",
        "    if TRAIN:\n",
        "        global_step = tf.train.get_global_step()\n",
        "        loss = tf.losses.sigmoid_cross_entropy(labels, logits)\n",
        "        train_op = tf.train.AdamOptimizer(0.001).minimize(loss, global_step)\n",
        "\n",
        "        return tf.estimator.EstimatorSpec(mode=mode, train_op=train_op, loss = loss)\n",
        "    \n",
        "    elif EVAL:\n",
        "        loss = tf.losses.sigmoid_cross_entropy(labels, logits)\n",
        "        pred = tf.nn.sigmoid(logits)\n",
        "        accuracy = tf.metrics.accuracy(labels, tf.round(pred))\n",
        "        return tf.estimator.EstimatorSpec(mode=mode, loss=loss, eval_metric_ops={'acc': accuracy})\n",
        "        \n",
        "    elif PREDICT:\n",
        "        return tf.estimator.EstimatorSpec(\n",
        "            mode=mode,\n",
        "            predictions={\n",
        "                'prob': tf.nn.sigmoid(logits),\n",
        "            }\n",
        "        )"
      ],
      "execution_count": 0,
      "outputs": []
    },
    {
      "cell_type": "markdown",
      "metadata": {
        "id": "1_6uJKbDbvFX",
        "colab_type": "text"
      },
      "source": [
        "### tf.Estimator 생성\n",
        "\n",
        "모델 함수를 만들었다면 tf.estimator를 어떻게 쓰는지 봅시다.\n",
        "\n",
        "간단하게 tf.estimator.Estimator는 모델 함수를 등록하면서 생성하면 됩니다."
      ]
    },
    {
      "cell_type": "code",
      "metadata": {
        "id": "nRWb4FHZN7wr",
        "colab_type": "code",
        "colab": {
          "base_uri": "https://localhost:8080/",
          "height": 217
        },
        "outputId": "c56de3b2-3aac-4cb2-feec-bcbfa26a060e"
      },
      "source": [
        "cnn_est = tf.estimator.Estimator(cnn_model_fn)"
      ],
      "execution_count": 41,
      "outputs": [
        {
          "output_type": "stream",
          "text": [
            "INFO:tensorflow:Using default config.\n",
            "WARNING:tensorflow:Using temporary folder as model directory: /tmp/tmp80itkyrb\n",
            "INFO:tensorflow:Using config: {'_model_dir': '/tmp/tmp80itkyrb', '_tf_random_seed': None, '_save_summary_steps': 100, '_save_checkpoints_steps': None, '_save_checkpoints_secs': 600, '_session_config': allow_soft_placement: true\n",
            "graph_options {\n",
            "  rewrite_options {\n",
            "    meta_optimizer_iterations: ONE\n",
            "  }\n",
            "}\n",
            ", '_keep_checkpoint_max': 5, '_keep_checkpoint_every_n_hours': 10000, '_log_step_count_steps': 100, '_train_distribute': None, '_device_fn': None, '_protocol': None, '_eval_distribute': None, '_experimental_distribute': None, '_experimental_max_worker_delay_secs': None, '_session_creation_timeout_secs': 7200, '_service': None, '_cluster_spec': <tensorflow.python.training.server_lib.ClusterSpec object at 0x7f8e8ebac048>, '_task_type': 'worker', '_task_id': 0, '_global_id_in_cluster': 0, '_master': '', '_evaluation_master': '', '_is_chief': True, '_num_ps_replicas': 0, '_num_worker_replicas': 1}\n",
            "WARNING:tensorflow:Estimator's model_fn (<function cnn_model_fn at 0x7f8e67fcea60>) includes params argument, but params are not passed to Estimator.\n"
          ],
          "name": "stdout"
        }
      ]
    },
    {
      "cell_type": "markdown",
      "metadata": {
        "id": "b_WG19Csb0jr",
        "colab_type": "text"
      },
      "source": [
        "### 모델 학습\n",
        "\n",
        "tf.estimator는 학습과 평가, 예측에 대한 기능을 간편하게 estimator.train(), estimator.evaluate(), estimator.predict()로 실행할 수 있게 지원하고 있습니다.\n",
        "\n",
        "이러한 기능 제공 덕분에 여러분은 모델 학습과 평가를 위한 구현에 대한 고민을 굳이 하실 필요가 없습니다."
      ]
    },
    {
      "cell_type": "code",
      "metadata": {
        "id": "JbIfpkqbN76N",
        "colab_type": "code",
        "colab": {
          "base_uri": "https://localhost:8080/",
          "height": 577
        },
        "outputId": "429931ac-fcb6-4552-d5d9-82a813a28910"
      },
      "source": [
        "cnn_est.train(train_input_fn)"
      ],
      "execution_count": 42,
      "outputs": [
        {
          "output_type": "stream",
          "text": [
            "WARNING:tensorflow:From /usr/local/lib/python3.6/dist-packages/tensorflow_core/python/training/training_util.py:236: Variable.initialized_value (from tensorflow.python.ops.variables) is deprecated and will be removed in a future version.\n",
            "Instructions for updating:\n",
            "Use Variable.read_value. Variables in 2.X are initialized automatically both in eager and graph (inside tf.defun) contexts.\n",
            "WARNING:tensorflow:From <ipython-input-39-cb551a9d9484>:11: DatasetV1.make_one_shot_iterator (from tensorflow.python.data.ops.dataset_ops) is deprecated and will be removed in a future version.\n",
            "Instructions for updating:\n",
            "Use `for ... in dataset:` to iterate over a dataset. If using `tf.estimator`, return the `Dataset` object directly from your input function. As a last resort, you can use `tf.compat.v1.data.make_one_shot_iterator(dataset)`.\n",
            "INFO:tensorflow:Calling model_fn.\n",
            "WARNING:tensorflow:From /usr/local/lib/python3.6/dist-packages/tensorflow_core/python/keras/initializers.py:119: calling RandomUniform.__init__ (from tensorflow.python.ops.init_ops) with dtype is deprecated and will be removed in a future version.\n",
            "Instructions for updating:\n",
            "Call initializer instance with the dtype argument instead of passing it to the constructor\n",
            "WARNING:tensorflow:From /usr/local/lib/python3.6/dist-packages/tensorflow_core/python/ops/resource_variable_ops.py:1630: calling BaseResourceVariable.__init__ (from tensorflow.python.ops.resource_variable_ops) with constraint is deprecated and will be removed in a future version.\n",
            "Instructions for updating:\n",
            "If using Keras pass *_constraint arguments to layers.\n",
            "WARNING:tensorflow:From /usr/local/lib/python3.6/dist-packages/tensorflow_core/python/ops/nn_impl.py:183: where (from tensorflow.python.ops.array_ops) is deprecated and will be removed in a future version.\n",
            "Instructions for updating:\n",
            "Use tf.where in 2.0, which has the same broadcast rule as np.where\n",
            "INFO:tensorflow:Done calling model_fn.\n",
            "INFO:tensorflow:Create CheckpointSaverHook.\n",
            "INFO:tensorflow:Graph was finalized.\n",
            "INFO:tensorflow:Running local_init_op.\n",
            "INFO:tensorflow:Done running local_init_op.\n",
            "INFO:tensorflow:Saving checkpoints for 0 into /tmp/tmp80itkyrb/model.ckpt.\n",
            "INFO:tensorflow:loss = 0.7040092, step = 0\n",
            "INFO:tensorflow:global_step/sec: 251.477\n",
            "INFO:tensorflow:loss = -334.4336, step = 100 (0.401 sec)\n",
            "INFO:tensorflow:global_step/sec: 365.332\n",
            "INFO:tensorflow:loss = -8195.369, step = 200 (0.272 sec)\n",
            "INFO:tensorflow:Saving checkpoints for 285 into /tmp/tmp80itkyrb/model.ckpt.\n",
            "INFO:tensorflow:Loss for final step: -38847.52.\n"
          ],
          "name": "stdout"
        },
        {
          "output_type": "execute_result",
          "data": {
            "text/plain": [
              "<tensorflow_estimator.python.estimator.estimator.Estimator at 0x7f8e66f5ce10>"
            ]
          },
          "metadata": {
            "tags": []
          },
          "execution_count": 42
        }
      ]
    },
    {
      "cell_type": "markdown",
      "metadata": {
        "id": "4PKzXx0Jb2cC",
        "colab_type": "text"
      },
      "source": [
        "### 학습 데이터로 평가점수 확인\n",
        "\n",
        "지금 평가하는 데이터는 학습 데이터입니다.\n",
        "\n",
        "앞에서 loss값은 확인했지만 정확도에 대해서는 확인해보지 못해 여기서 확인해 보도록 합니다."
      ]
    },
    {
      "cell_type": "code",
      "metadata": {
        "id": "2QY4luLrN8AP",
        "colab_type": "code",
        "colab": {
          "base_uri": "https://localhost:8080/",
          "height": 215
        },
        "outputId": "de6cec22-1a60-4ce3-a6a6-af9b9c531db1"
      },
      "source": [
        "cnn_est.evaluate(eval_input_fn)"
      ],
      "execution_count": 43,
      "outputs": [
        {
          "output_type": "stream",
          "text": [
            "INFO:tensorflow:Calling model_fn.\n",
            "INFO:tensorflow:Done calling model_fn.\n",
            "INFO:tensorflow:Starting evaluation at 2020-03-03T01:44:21Z\n",
            "INFO:tensorflow:Graph was finalized.\n",
            "INFO:tensorflow:Restoring parameters from /tmp/tmp80itkyrb/model.ckpt-285\n",
            "INFO:tensorflow:Running local_init_op.\n",
            "INFO:tensorflow:Done running local_init_op.\n",
            "INFO:tensorflow:Finished evaluation at 2020-03-03-01:44:21\n",
            "INFO:tensorflow:Saving dict for global step 285: acc = 0.019762846, global_step = 285, loss = -38384.293\n",
            "INFO:tensorflow:Saving 'checkpoint_path' summary for global step 285: /tmp/tmp80itkyrb/model.ckpt-285\n"
          ],
          "name": "stdout"
        },
        {
          "output_type": "execute_result",
          "data": {
            "text/plain": [
              "{'acc': 0.019762846, 'global_step': 285, 'loss': -38384.293}"
            ]
          },
          "metadata": {
            "tags": []
          },
          "execution_count": 43
        }
      ]
    },
    {
      "cell_type": "markdown",
      "metadata": {
        "id": "ei-BBq8KcLGZ",
        "colab_type": "text"
      },
      "source": [
        "### 모델 평가\n",
        "\n",
        "이제 실제 평가 데이터를 가지고 성능을 측정해보도록 합시다."
      ]
    },
    {
      "cell_type": "code",
      "metadata": {
        "id": "Ahqu09gMN8Db",
        "colab_type": "code",
        "colab": {}
      },
      "source": [
        "test_file_link = 'https://raw.githubusercontent.com/NLP-kr/tensorflow-ml-nlp/master/4.TEXT_CLASSIFICATION/data_in/ratings_test.txt'"
      ],
      "execution_count": 0,
      "outputs": []
    },
    {
      "cell_type": "markdown",
      "metadata": {
        "id": "Pg7Ab60acPUH",
        "colab_type": "text"
      },
      "source": [
        "### 평가 데이터 구성"
      ]
    },
    {
      "cell_type": "code",
      "metadata": {
        "id": "N1isq9GWN8Lh",
        "colab_type": "code",
        "colab": {
          "base_uri": "https://localhost:8080/",
          "height": 35
        },
        "outputId": "4ba70207-d279-48cf-ca15-e86eefaae03b"
      },
      "source": [
        "test_data = pd.read_csv(test_file_link, header = 0, delimiter = '\\t', quoting = 3)\n",
        "\n",
        "clean_test_review = []\n",
        "\n",
        "for review in tqdm(test_data['document']):\n",
        "    # 비어있는 데이터에서 멈추지 않도록 string인 경우만 진행\n",
        "    if type(review) == str:\n",
        "        clean_test_review.append(preprocessing(review, okt, remove_stopwords = True, stop_words=stop_words))\n",
        "    else:\n",
        "        clean_test_review.append([])  #string이 아니면 비어있는 값 추가\n",
        "\n",
        "test_sequences = tokenizer.texts_to_sequences(clean_test_review)\n",
        "test_inputs = pad_sequences(test_sequences, maxlen=MAX_SEQUENCE_LENGTH, padding='post') # 학습 데이터를 벡터화\n",
        "test_labels = np.array(test_data['label']) # 학습 데이터의 라벨"
      ],
      "execution_count": 45,
      "outputs": [
        {
          "output_type": "stream",
          "text": [
            "100%|██████████| 50000/50000 [02:43<00:00, 306.49it/s]\n"
          ],
          "name": "stderr"
        }
      ]
    },
    {
      "cell_type": "markdown",
      "metadata": {
        "id": "J4YnppLscTBO",
        "colab_type": "text"
      },
      "source": [
        "### 데이터 입력 함수 "
      ]
    },
    {
      "cell_type": "code",
      "metadata": {
        "id": "CcINCwM2N7rq",
        "colab_type": "code",
        "colab": {}
      },
      "source": [
        "def test_input_fn():\n",
        "    dataset = tf.data.Dataset.from_tensor_slices((test_inputs, test_labels))\n",
        "    dataset = dataset.batch(128)\n",
        "    dataset = dataset.map(mapping_fn)\n",
        "    iterator = dataset.make_one_shot_iterator()\n",
        "    \n",
        "    return iterator.get_next()"
      ],
      "execution_count": 0,
      "outputs": []
    },
    {
      "cell_type": "markdown",
      "metadata": {
        "id": "_3Mrj1VzcWDy",
        "colab_type": "text"
      },
      "source": [
        "### CNN 분류기 평가"
      ]
    },
    {
      "cell_type": "code",
      "metadata": {
        "id": "nIUDClnwN7mx",
        "colab_type": "code",
        "colab": {
          "base_uri": "https://localhost:8080/",
          "height": 215
        },
        "outputId": "fa7eb351-0cf9-4db1-d28b-5d3570e2c223"
      },
      "source": [
        "cnn_est.evaluate(test_input_fn)"
      ],
      "execution_count": 47,
      "outputs": [
        {
          "output_type": "stream",
          "text": [
            "INFO:tensorflow:Calling model_fn.\n",
            "INFO:tensorflow:Done calling model_fn.\n",
            "INFO:tensorflow:Starting evaluation at 2020-03-03T01:48:51Z\n",
            "INFO:tensorflow:Graph was finalized.\n",
            "INFO:tensorflow:Restoring parameters from /tmp/tmp80itkyrb/model.ckpt-285\n",
            "INFO:tensorflow:Running local_init_op.\n",
            "INFO:tensorflow:Done running local_init_op.\n",
            "INFO:tensorflow:Finished evaluation at 2020-03-03-01:48:52\n",
            "INFO:tensorflow:Saving dict for global step 285: acc = 0.50346, global_step = 285, loss = 14301.782\n",
            "INFO:tensorflow:Saving 'checkpoint_path' summary for global step 285: /tmp/tmp80itkyrb/model.ckpt-285\n"
          ],
          "name": "stdout"
        },
        {
          "output_type": "execute_result",
          "data": {
            "text/plain": [
              "{'acc': 0.50346, 'global_step': 285, 'loss': 14301.782}"
            ]
          },
          "metadata": {
            "tags": []
          },
          "execution_count": 47
        }
      ]
    },
    {
      "cell_type": "markdown",
      "metadata": {
        "id": "2JLeUuZ1u6pK",
        "colab_type": "text"
      },
      "source": [
        "## 직접 쓴 문장을 가지고 예측해보기"
      ]
    },
    {
      "cell_type": "markdown",
      "metadata": {
        "id": "nY9HyBJG2-MG",
        "colab_type": "text"
      },
      "source": [
        "### 서빙 함수 구현"
      ]
    },
    {
      "cell_type": "code",
      "metadata": {
        "id": "vKmTAJIMu5kG",
        "colab_type": "code",
        "colab": {}
      },
      "source": [
        "# Serving을 제공하기 위한 입력 리시버 함수를 선언해주어야 한다.\n",
        "def serving_input_receiver_fn():\n",
        "    # estimator에 입력하고자 하는 데이터를 dict 객체로 정의한다.\n",
        "    receiver_tensor = {\n",
        "        # 외부로부터 입력을 받는 프로토콜은 스트링이다. ServingInputReceiver 메뉴얼에도 언급되었다시피\n",
        "        # 이 방식은 TFRecord 파일 형태로 시리얼화한 데이터 형태로 전송을 받는다. (이를 tf.example 방식이라고도 하는 것 같다)\n",
        "        'x': tf.placeholder(dtype=tf.string, shape=[None])\n",
        "    }\n",
        "    \n",
        "    # 다음은 TFRecord 방식으로 받은 데이터를 모델에 넣을 수 있게 처리를 하는 dict 객체라 보면 된다.\n",
        "    # 쉽게 말하면 앞서 estimator를 진행하기 위해 data_fn의 과정을 작성해두는데 이 과정을 여기서 거친다 보면 된다.\n",
        "    features = {\n",
        "        key: tensor\n",
        "        for key, tensor in receiver_tensor.items()\n",
        "    }\n",
        "    # TFRecord로 시리얼화 된 데이터를 integer tensor로 변환하기 위해서는 string to int로 decode를 해줘야 한다.\n",
        "    fn = lambda query: tf.decode_raw(query, tf.int64)\n",
        "    features['x'] = tf.map_fn(fn, features['x'], dtype=tf.int64)\n",
        "    # 받은 데이터에 대해 모델입력에 맞는 shape로 구성을 해주기 위해 reshape을 해준다.\n",
        "    features['x'] = tf.reshape(features['x'], [-1, MAX_SEQUENCE_LENGTH])\n",
        "\n",
        "    # 위에 정의한 받을 데이터에 대한 프로토콜과 모델에 입력할 데이터 전처리를 다음 함수 파라메터에 입력해준다.\n",
        "    return tf.estimator.export.ServingInputReceiver(features, receiver_tensor)"
      ],
      "execution_count": 0,
      "outputs": []
    },
    {
      "cell_type": "markdown",
      "metadata": {
        "id": "Dc1LDhZ23CC-",
        "colab_type": "text"
      },
      "source": [
        "### 서빙할 모델 파일 생성"
      ]
    },
    {
      "cell_type": "code",
      "metadata": {
        "id": "8Utt70LwvZe6",
        "colab_type": "code",
        "colab": {
          "base_uri": "https://localhost:8080/",
          "height": 343
        },
        "outputId": "bd509857-6387-4d52-e2cb-7c7aa0b6d3b8"
      },
      "source": [
        "export_dir_base = './served_model/new_staging'\n",
        "\n",
        "# 서빙에 대한 입력 리시버함수와 저장 위치를 파라메터로 지정한다면, 서빙 pb파일로 저장하여 간단하게 모델을 활용할 수 있게 된다.\n",
        "# 실행을 하게 되면 저장된 파일의 위치를 텍스트 출력을 통해 얻게된다.\n",
        "path = cnn_est.export_savedmodel(export_dir_base, serving_input_receiver_fn)"
      ],
      "execution_count": 49,
      "outputs": [
        {
          "output_type": "stream",
          "text": [
            "WARNING:tensorflow:From <ipython-input-49-442a610f0bb1>:5: Estimator.export_savedmodel (from tensorflow_estimator.python.estimator.estimator) is deprecated and will be removed in a future version.\n",
            "Instructions for updating:\n",
            "This function has been renamed, use `export_saved_model` instead.\n",
            "INFO:tensorflow:Calling model_fn.\n",
            "INFO:tensorflow:Done calling model_fn.\n",
            "WARNING:tensorflow:From /usr/local/lib/python3.6/dist-packages/tensorflow_core/python/saved_model/signature_def_utils_impl.py:201: build_tensor_info (from tensorflow.python.saved_model.utils_impl) is deprecated and will be removed in a future version.\n",
            "Instructions for updating:\n",
            "This function will only be available through the v1 compatibility library as tf.compat.v1.saved_model.utils.build_tensor_info or tf.compat.v1.saved_model.build_tensor_info.\n",
            "INFO:tensorflow:Signatures INCLUDED in export for Classify: None\n",
            "INFO:tensorflow:Signatures INCLUDED in export for Regress: None\n",
            "INFO:tensorflow:Signatures INCLUDED in export for Predict: ['serving_default']\n",
            "INFO:tensorflow:Signatures INCLUDED in export for Train: None\n",
            "INFO:tensorflow:Signatures INCLUDED in export for Eval: None\n",
            "INFO:tensorflow:Restoring parameters from /tmp/tmp80itkyrb/model.ckpt-285\n",
            "INFO:tensorflow:Assets added to graph.\n",
            "INFO:tensorflow:No assets to write.\n",
            "INFO:tensorflow:SavedModel written to: ./served_model/new_staging/temp-b'1583200148'/saved_model.pb\n"
          ],
          "name": "stdout"
        }
      ]
    },
    {
      "cell_type": "markdown",
      "metadata": {
        "id": "UOFSVtmd3HH2",
        "colab_type": "text"
      },
      "source": [
        "### 서빙 모델 파일을 예측 모델 함수로 만들기"
      ]
    },
    {
      "cell_type": "code",
      "metadata": {
        "id": "GTUT7o8Jv3aD",
        "colab_type": "code",
        "colab": {
          "base_uri": "https://localhost:8080/",
          "height": 253
        },
        "outputId": "92d3decd-0d8c-4e4e-a870-21692605c2e3"
      },
      "source": [
        "# 모델이 저장된 경로 위치를 파라메터로 지정하여 함수를 부르면 간단하게 예측 모델을 활용할 수 있다.\n",
        "# 이 모델 예측을 간단하게 함수로 받게된다.\n",
        "predictor_fn = tf.contrib.predictor.from_saved_model(\n",
        "    export_dir = path,\n",
        "    # 옵션이지만 실행되는 모델에 대한 이름을 명시하고자 한다면 다음의 파라메터를 활용한다.\n",
        "    signature_def_key=\"serving_default\"\n",
        ")"
      ],
      "execution_count": 50,
      "outputs": [
        {
          "output_type": "stream",
          "text": [
            "WARNING:tensorflow:\n",
            "The TensorFlow contrib module will not be included in TensorFlow 2.0.\n",
            "For more information, please see:\n",
            "  * https://github.com/tensorflow/community/blob/master/rfcs/20180907-contrib-sunset.md\n",
            "  * https://github.com/tensorflow/addons\n",
            "  * https://github.com/tensorflow/io (for I/O related ops)\n",
            "If you depend on functionality not listed there, please file an issue.\n",
            "\n",
            "WARNING:tensorflow:From /usr/local/lib/python3.6/dist-packages/tensorflow_core/contrib/predictor/saved_model_predictor.py:153: load (from tensorflow.python.saved_model.loader_impl) is deprecated and will be removed in a future version.\n",
            "Instructions for updating:\n",
            "This function will only be available through the v1 compatibility library as tf.compat.v1.saved_model.loader.load or tf.compat.v1.saved_model.load. There will be a new function for importing SavedModels in Tensorflow 2.0.\n",
            "INFO:tensorflow:Restoring parameters from ./served_model/new_staging/1583200148/variables/variables\n"
          ],
          "name": "stdout"
        }
      ]
    },
    {
      "cell_type": "markdown",
      "metadata": {
        "id": "OAXrZQPy3Q27",
        "colab_type": "text"
      },
      "source": [
        "### 문장 벡터화"
      ]
    },
    {
      "cell_type": "code",
      "metadata": {
        "id": "njeuHOnyv8LB",
        "colab_type": "code",
        "colab": {}
      },
      "source": [
        "def str2vec(s, okt, tokenizer, limit_len=MAX_SEQUENCE_LENGTH):\n",
        "  tokenized_s = preprocessing(s, okt)\n",
        "  sequences = tokenizer.texts_to_sequences([tokenized_s])\n",
        "  sequences = pad_sequences(sequences, maxlen=limit_len, padding='post')\n",
        "\n",
        "  return np.int64(sequences).tostring()"
      ],
      "execution_count": 0,
      "outputs": []
    },
    {
      "cell_type": "markdown",
      "metadata": {
        "id": "BHWy2wlG3UaF",
        "colab_type": "text"
      },
      "source": [
        "### 예측 테스트"
      ]
    },
    {
      "cell_type": "code",
      "metadata": {
        "id": "4sPX3-86xZ29",
        "colab_type": "code",
        "colab": {
          "base_uri": "https://localhost:8080/",
          "height": 53
        },
        "outputId": "359d16f7-552b-4866-bee9-5766bbc8c75c"
      },
      "source": [
        "test_sent = '결제금액 : 22,600'\n",
        "model_input = str2vec(test_sent, okt, tokenizer)\n",
        "predicted_value = predictor_fn({'x': [model_input]})\n",
        "print('모델에서 반환된 값: ', predicted_value)\n",
        "print('감정 예측 값 (0~1범위): ',  predicted_value['prob'][0][0])"
      ],
      "execution_count": 55,
      "outputs": [
        {
          "output_type": "stream",
          "text": [
            "모델에서 반환된 값:  {'prob': array([[1.]], dtype=float32)}\n",
            "감정 예측 값 (0~1범위):  1.0\n"
          ],
          "name": "stdout"
        }
      ]
    },
    {
      "cell_type": "code",
      "metadata": {
        "id": "sfHW947NxZi7",
        "colab_type": "code",
        "colab": {
          "base_uri": "https://localhost:8080/",
          "height": 53
        },
        "outputId": "5497d75f-e1fa-4c74-ca30-2159c849ced0"
      },
      "source": [
        "input_str = input('input text : ')\n",
        "model_input = str2vec(test_sent, okt, tokenizer)\n",
        "predicted_value = predictor_fn({'x': [model_input]})\n",
        "print(predicted_value['prob'][0])"
      ],
      "execution_count": 56,
      "outputs": [
        {
          "output_type": "stream",
          "text": [
            "input text : 신용카드\n",
            "[1.]\n"
          ],
          "name": "stdout"
        }
      ]
    },
    {
      "cell_type": "markdown",
      "metadata": {
        "id": "uxBBY_JPOLZ7",
        "colab_type": "text"
      },
      "source": [
        "### Recurrent Neural Network (RNN) 모델\n",
        "\n",
        "![rnn_image](http://tommymullaney.com/img/google-hangouts-feature.png)"
      ]
    },
    {
      "cell_type": "code",
      "metadata": {
        "id": "eIRc_dDhN7ir",
        "colab_type": "code",
        "colab": {}
      },
      "source": [
        "def rnn_model_fn(features, labels, mode, params):\n",
        "    TRAIN = mode == tf.estimator.ModeKeys.TRAIN\n",
        "    EVAL = mode == tf.estimator.ModeKeys.EVAL\n",
        "    PREDICT = mode == tf.estimator.ModeKeys.PREDICT\n",
        "\n",
        "    embedding_layer = tf.keras.layers.Embedding(\n",
        "                    VOCAB_SIZE,\n",
        "                    EMB_SIZE)(features['x'])\n",
        "\n",
        "    dropout_emb = tf.keras.layers.Dropout(rate = 0.2)(embedding_layer)\n",
        "  \n",
        "    lstm = tf.keras.layers.LSTM(32)(dropout_emb)\n",
        "\n",
        "    hidden = tf.keras.layers.Dense(units=250, activation=tf.nn.relu)(lstm)   \n",
        "\n",
        "\n",
        "    dropout_hidden = tf.keras.layers.Dropout(rate=0.2)(hidden, training = TRAIN)\n",
        "    logits = tf.keras.layers.Dense(units=1)(dropout_hidden)\n",
        "\n",
        "    if labels is not None:\n",
        "        labels = tf.reshape(labels, [-1, 1])\n",
        "        \n",
        "    if TRAIN:\n",
        "        global_step = tf.train.get_global_step()\n",
        "        loss = tf.losses.sigmoid_cross_entropy(labels, logits)\n",
        "        train_op = tf.train.AdamOptimizer(0.001).minimize(loss, global_step)\n",
        "\n",
        "        return tf.estimator.EstimatorSpec(mode=mode, train_op=train_op, loss = loss)\n",
        "    \n",
        "    elif EVAL:\n",
        "        loss = tf.losses.sigmoid_cross_entropy(labels, logits)\n",
        "        pred = tf.nn.sigmoid(logits)\n",
        "        accuracy = tf.metrics.accuracy(labels, tf.round(pred))\n",
        "        return tf.estimator.EstimatorSpec(mode=mode, loss=loss, eval_metric_ops={'acc': accuracy})\n",
        "        \n",
        "    elif PREDICT:\n",
        "        return tf.estimator.EstimatorSpec(\n",
        "            mode=mode,\n",
        "            predictions={\n",
        "                'prob': tf.nn.sigmoid(logits),\n",
        "            }\n",
        "        )"
      ],
      "execution_count": 0,
      "outputs": []
    },
    {
      "cell_type": "code",
      "metadata": {
        "id": "GKDqTHTOOl7r",
        "colab_type": "code",
        "colab": {}
      },
      "source": [
        "rnn_est = tf.estimator.Estimator(rnn_model_fn)"
      ],
      "execution_count": 0,
      "outputs": []
    },
    {
      "cell_type": "code",
      "metadata": {
        "id": "9lES3lXCO28B",
        "colab_type": "code",
        "colab": {}
      },
      "source": [
        "rnn_est.train(train_input_fn)"
      ],
      "execution_count": 0,
      "outputs": []
    },
    {
      "cell_type": "code",
      "metadata": {
        "id": "oCQSOcU5O4_y",
        "colab_type": "code",
        "colab": {}
      },
      "source": [
        "rnn_est.evaluate(eval_input_fn)"
      ],
      "execution_count": 0,
      "outputs": []
    },
    {
      "cell_type": "code",
      "metadata": {
        "id": "2A8gNJdmPKTF",
        "colab_type": "code",
        "colab": {}
      },
      "source": [
        "rnn_est.evaluate(test_input_fn)"
      ],
      "execution_count": 0,
      "outputs": []
    }
  ]
}